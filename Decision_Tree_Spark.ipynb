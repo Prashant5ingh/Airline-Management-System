{
  "nbformat": 4,
  "nbformat_minor": 0,
  "metadata": {
    "colab": {
      "name": "Decision_Tree_Spark.ipynb",
      "provenance": [],
      "collapsed_sections": [],
      "authorship_tag": "ABX9TyPt3bWC/GX7+8nuTxjasj52",
      "include_colab_link": true
    },
    "kernelspec": {
      "name": "python3",
      "display_name": "Python 3"
    },
    "language_info": {
      "name": "python"
    },
    "widgets": {
      "application/vnd.jupyter.widget-state+json": {
        "e3d975f375804fa5820044b841552d2e": {
          "model_module": "@jupyter-widgets/controls",
          "model_name": "VBoxModel",
          "state": {
            "_view_name": "VBoxView",
            "_dom_classes": [],
            "_model_name": "VBoxModel",
            "_view_module": "@jupyter-widgets/controls",
            "_model_module_version": "1.5.0",
            "_view_count": null,
            "_view_module_version": "1.5.0",
            "box_style": "",
            "layout": "IPY_MODEL_44b6253ad79e43f3ac06dbebd24568ca",
            "_model_module": "@jupyter-widgets/controls",
            "children": [
              "IPY_MODEL_9ccba115baac4b30a407169c6eff71ad",
              "IPY_MODEL_4c8d6f4955ee4c1dae2b420837132c5f",
              "IPY_MODEL_368098c2a4464c14bb23fc002da77995",
              "IPY_MODEL_ba74280034cb45d1821677b4e06b104f"
            ]
          }
        },
        "44b6253ad79e43f3ac06dbebd24568ca": {
          "model_module": "@jupyter-widgets/base",
          "model_name": "LayoutModel",
          "state": {
            "_view_name": "LayoutView",
            "grid_template_rows": null,
            "right": null,
            "justify_content": null,
            "_view_module": "@jupyter-widgets/base",
            "overflow": null,
            "_model_module_version": "1.2.0",
            "_view_count": null,
            "flex_flow": null,
            "width": null,
            "min_width": null,
            "border": null,
            "align_items": null,
            "bottom": null,
            "_model_module": "@jupyter-widgets/base",
            "top": null,
            "grid_column": null,
            "overflow_y": null,
            "overflow_x": null,
            "grid_auto_flow": null,
            "grid_area": null,
            "grid_template_columns": null,
            "flex": null,
            "_model_name": "LayoutModel",
            "justify_items": null,
            "grid_row": null,
            "max_height": null,
            "align_content": null,
            "visibility": null,
            "align_self": null,
            "height": null,
            "min_height": null,
            "padding": null,
            "grid_auto_rows": null,
            "grid_gap": null,
            "max_width": null,
            "order": null,
            "_view_module_version": "1.2.0",
            "grid_template_areas": null,
            "object_position": null,
            "object_fit": null,
            "grid_auto_columns": null,
            "margin": "20px 0px 10px 0px",
            "display": null,
            "left": null
          }
        },
        "9ccba115baac4b30a407169c6eff71ad": {
          "model_module": "@jupyter-widgets/controls",
          "model_name": "ToggleButtonsModel",
          "state": {
            "_options_labels": [
              "Standard",
              "Additive",
              "Subtractive"
            ],
            "_view_name": "ToggleButtonsView",
            "style": "IPY_MODEL_fe8aeeb18d814dd29d2f7bb1ad9a0ade",
            "_dom_classes": [
              "layout-445a2fbe88f541af95856d4afe539106"
            ],
            "description": "Selection Type:",
            "_model_name": "ToggleButtonsModel",
            "tooltips": [
              "Replaces selection",
              "Adds selected points to selection",
              "Removes selected points from selection"
            ],
            "index": 0,
            "button_style": "",
            "_view_module": "@jupyter-widgets/controls",
            "_model_module_version": "1.5.0",
            "_view_count": null,
            "disabled": false,
            "_view_module_version": "1.5.0",
            "icons": [],
            "description_tooltip": null,
            "_model_module": "@jupyter-widgets/controls",
            "layout": "IPY_MODEL_e4414fdab37d45f58e94cd8cc0bd3724"
          }
        },
        "4c8d6f4955ee4c1dae2b420837132c5f": {
          "model_module": "@jupyter-widgets/controls",
          "model_name": "HBoxModel",
          "state": {
            "_view_name": "HBoxView",
            "_dom_classes": [],
            "_model_name": "HBoxModel",
            "_view_module": "@jupyter-widgets/controls",
            "_model_module_version": "1.5.0",
            "_view_count": null,
            "_view_module_version": "1.5.0",
            "box_style": "",
            "layout": "IPY_MODEL_c752692120c44a2cb416f2300f2eee12",
            "_model_module": "@jupyter-widgets/controls",
            "children": [
              "IPY_MODEL_70fcabd8973b4ff7bb134ab860797f6a",
              "IPY_MODEL_3a4cc9a4efb94c00b111a08f58d50257"
            ]
          }
        },
        "368098c2a4464c14bb23fc002da77995": {
          "model_module": "@jupyter-widgets/controls",
          "model_name": "HBoxModel",
          "state": {
            "_view_name": "HBoxView",
            "_dom_classes": [],
            "_model_name": "HBoxModel",
            "_view_module": "@jupyter-widgets/controls",
            "_model_module_version": "1.5.0",
            "_view_count": null,
            "_view_module_version": "1.5.0",
            "box_style": "",
            "layout": "IPY_MODEL_be700b52ee0c4d1da3d0e7181b68f6fc",
            "_model_module": "@jupyter-widgets/controls",
            "children": [
              "IPY_MODEL_756a8bcfb60a4917ab78a109afdca1d6",
              "IPY_MODEL_122365453a204c538114fec30055e67b"
            ]
          }
        },
        "ba74280034cb45d1821677b4e06b104f": {
          "model_module": "@jupyter-widgets/controls",
          "model_name": "HTMLModel",
          "state": {
            "_view_name": "HTMLView",
            "style": "IPY_MODEL_578c32e28b1b4b0aa5a16bd08e9fc061",
            "_dom_classes": [],
            "description": "",
            "_model_name": "HTMLModel",
            "placeholder": "​",
            "_view_module": "@jupyter-widgets/controls",
            "_model_module_version": "1.5.0",
            "value": "<style>.jupyter-widgets { border-radius : 5px ; }.layout-445a2fbe88f541af95856d4afe539106 * .jupyter-button.mod-active { background-color : rgb(50, 62, 236); color: rgb(255, 255, 255); }.jupyter.button, .widget-toggle-button {border-radius : 5px; }.widget-dropdown > select {border-radius : 5px; }.jupyter-widgets::-webkit-scrollbar-track { border-radius: 4px; background-color: #F5F5F5; -webkit-box-shadow: inset 0 0 6px rgba(0,0,0,0.15); }.jupyter-widgets::-webkit-scrollbar { width: 7px; background-color: #F5F5F5; }.jupyter-widgets::-webkit-scrollbar-thumb { border-radius: 4px; background-color: rgb(170, 170, 170); }</style>",
            "_view_count": null,
            "_view_module_version": "1.5.0",
            "description_tooltip": null,
            "_model_module": "@jupyter-widgets/controls",
            "layout": "IPY_MODEL_5ae0026ba63c4f439d2d06793b59140a"
          }
        },
        "fe8aeeb18d814dd29d2f7bb1ad9a0ade": {
          "model_module": "@jupyter-widgets/controls",
          "model_name": "ToggleButtonsStyleModel",
          "state": {
            "_view_name": "StyleView",
            "button_width": "",
            "_model_name": "ToggleButtonsStyleModel",
            "description_width": "initial",
            "_view_module": "@jupyter-widgets/base",
            "_model_module_version": "1.5.0",
            "_view_count": null,
            "font_weight": "",
            "_view_module_version": "1.2.0",
            "_model_module": "@jupyter-widgets/controls"
          }
        },
        "e4414fdab37d45f58e94cd8cc0bd3724": {
          "model_module": "@jupyter-widgets/base",
          "model_name": "LayoutModel",
          "state": {
            "_view_name": "LayoutView",
            "grid_template_rows": null,
            "right": null,
            "justify_content": null,
            "_view_module": "@jupyter-widgets/base",
            "overflow": null,
            "_model_module_version": "1.2.0",
            "_view_count": null,
            "flex_flow": null,
            "width": null,
            "min_width": null,
            "border": null,
            "align_items": null,
            "bottom": null,
            "_model_module": "@jupyter-widgets/base",
            "top": null,
            "grid_column": null,
            "overflow_y": null,
            "overflow_x": null,
            "grid_auto_flow": null,
            "grid_area": null,
            "grid_template_columns": null,
            "flex": null,
            "_model_name": "LayoutModel",
            "justify_items": null,
            "grid_row": null,
            "max_height": null,
            "align_content": null,
            "visibility": null,
            "align_self": null,
            "height": null,
            "min_height": null,
            "padding": null,
            "grid_auto_rows": null,
            "grid_gap": null,
            "max_width": null,
            "order": null,
            "_view_module_version": "1.2.0",
            "grid_template_areas": null,
            "object_position": null,
            "object_fit": null,
            "grid_auto_columns": null,
            "margin": null,
            "display": null,
            "left": null
          }
        },
        "c752692120c44a2cb416f2300f2eee12": {
          "model_module": "@jupyter-widgets/base",
          "model_name": "LayoutModel",
          "state": {
            "_view_name": "LayoutView",
            "grid_template_rows": null,
            "right": null,
            "justify_content": null,
            "_view_module": "@jupyter-widgets/base",
            "overflow": null,
            "_model_module_version": "1.2.0",
            "_view_count": null,
            "flex_flow": null,
            "width": null,
            "min_width": null,
            "border": null,
            "align_items": null,
            "bottom": null,
            "_model_module": "@jupyter-widgets/base",
            "top": null,
            "grid_column": null,
            "overflow_y": null,
            "overflow_x": null,
            "grid_auto_flow": null,
            "grid_area": null,
            "grid_template_columns": null,
            "flex": null,
            "_model_name": "LayoutModel",
            "justify_items": null,
            "grid_row": null,
            "max_height": null,
            "align_content": null,
            "visibility": null,
            "align_self": null,
            "height": null,
            "min_height": null,
            "padding": null,
            "grid_auto_rows": null,
            "grid_gap": null,
            "max_width": null,
            "order": null,
            "_view_module_version": "1.2.0",
            "grid_template_areas": null,
            "object_position": null,
            "object_fit": null,
            "grid_auto_columns": null,
            "margin": null,
            "display": null,
            "left": null
          }
        },
        "70fcabd8973b4ff7bb134ab860797f6a": {
          "model_module": "@jupyter-widgets/controls",
          "model_name": "VBoxModel",
          "state": {
            "_view_name": "VBoxView",
            "_dom_classes": [],
            "_model_name": "VBoxModel",
            "_view_module": "@jupyter-widgets/controls",
            "_model_module_version": "1.5.0",
            "_view_count": null,
            "_view_module_version": "1.5.0",
            "box_style": "",
            "layout": "IPY_MODEL_acd860b507604a57af28ae68c8e6a7fc",
            "_model_module": "@jupyter-widgets/controls",
            "children": [
              "IPY_MODEL_5fd69828d4d946739d8f7e3f82478ec1",
              "IPY_MODEL_6edeb30684164b78b74ebda096d9a383"
            ]
          }
        },
        "3a4cc9a4efb94c00b111a08f58d50257": {
          "model_module": "@jupyter-widgets/controls",
          "model_name": "VBoxModel",
          "state": {
            "_view_name": "VBoxView",
            "_dom_classes": [],
            "_model_name": "VBoxModel",
            "_view_module": "@jupyter-widgets/controls",
            "_model_module_version": "1.5.0",
            "_view_count": null,
            "_view_module_version": "1.5.0",
            "box_style": "",
            "layout": "IPY_MODEL_de21d0afabd342a0a3066397a39d9b05",
            "_model_module": "@jupyter-widgets/controls",
            "children": [
              "IPY_MODEL_df79685f06ce4739a11c1f85d1b7b073",
              "IPY_MODEL_3ddf1013add7432eb18373f011e1b621"
            ]
          }
        },
        "be700b52ee0c4d1da3d0e7181b68f6fc": {
          "model_module": "@jupyter-widgets/base",
          "model_name": "LayoutModel",
          "state": {
            "_view_name": "LayoutView",
            "grid_template_rows": null,
            "right": null,
            "justify_content": null,
            "_view_module": "@jupyter-widgets/base",
            "overflow": null,
            "_model_module_version": "1.2.0",
            "_view_count": null,
            "flex_flow": null,
            "width": null,
            "min_width": null,
            "border": null,
            "align_items": null,
            "bottom": null,
            "_model_module": "@jupyter-widgets/base",
            "top": null,
            "grid_column": null,
            "overflow_y": null,
            "overflow_x": null,
            "grid_auto_flow": null,
            "grid_area": null,
            "grid_template_columns": null,
            "flex": null,
            "_model_name": "LayoutModel",
            "justify_items": null,
            "grid_row": null,
            "max_height": null,
            "align_content": null,
            "visibility": null,
            "align_self": null,
            "height": null,
            "min_height": null,
            "padding": null,
            "grid_auto_rows": null,
            "grid_gap": null,
            "max_width": null,
            "order": null,
            "_view_module_version": "1.2.0",
            "grid_template_areas": null,
            "object_position": null,
            "object_fit": null,
            "grid_auto_columns": null,
            "margin": null,
            "display": null,
            "left": null
          }
        },
        "756a8bcfb60a4917ab78a109afdca1d6": {
          "model_module": "@jupyter-widgets/controls",
          "model_name": "VBoxModel",
          "state": {
            "_view_name": "VBoxView",
            "_dom_classes": [],
            "_model_name": "VBoxModel",
            "_view_module": "@jupyter-widgets/controls",
            "_model_module_version": "1.5.0",
            "_view_count": null,
            "_view_module_version": "1.5.0",
            "box_style": "",
            "layout": "IPY_MODEL_4bc5c06bdff845829fe965c1483c80c9",
            "_model_module": "@jupyter-widgets/controls",
            "children": [
              "IPY_MODEL_9b260b3d4b734c2ab25cfadbe9bedc9c",
              "IPY_MODEL_8cee2069c1be4c79a2b7de8bf249b0bf"
            ]
          }
        },
        "122365453a204c538114fec30055e67b": {
          "model_module": "@jupyter-widgets/controls",
          "model_name": "VBoxModel",
          "state": {
            "_view_name": "VBoxView",
            "_dom_classes": [],
            "_model_name": "VBoxModel",
            "_view_module": "@jupyter-widgets/controls",
            "_model_module_version": "1.5.0",
            "_view_count": null,
            "_view_module_version": "1.5.0",
            "box_style": "",
            "layout": "IPY_MODEL_29607bf665e54e009c9b32c6b92c4fc6",
            "_model_module": "@jupyter-widgets/controls",
            "children": [
              "IPY_MODEL_7a098fa894d84c8db48318e764315cde",
              "IPY_MODEL_ee758651a9f94c209156f08fca0539cd"
            ]
          }
        },
        "578c32e28b1b4b0aa5a16bd08e9fc061": {
          "model_module": "@jupyter-widgets/controls",
          "model_name": "DescriptionStyleModel",
          "state": {
            "_view_name": "StyleView",
            "_model_name": "DescriptionStyleModel",
            "description_width": "",
            "_view_module": "@jupyter-widgets/base",
            "_model_module_version": "1.5.0",
            "_view_count": null,
            "_view_module_version": "1.2.0",
            "_model_module": "@jupyter-widgets/controls"
          }
        },
        "5ae0026ba63c4f439d2d06793b59140a": {
          "model_module": "@jupyter-widgets/base",
          "model_name": "LayoutModel",
          "state": {
            "_view_name": "LayoutView",
            "grid_template_rows": null,
            "right": null,
            "justify_content": null,
            "_view_module": "@jupyter-widgets/base",
            "overflow": null,
            "_model_module_version": "1.2.0",
            "_view_count": null,
            "flex_flow": null,
            "width": null,
            "min_width": null,
            "border": null,
            "align_items": null,
            "bottom": null,
            "_model_module": "@jupyter-widgets/base",
            "top": null,
            "grid_column": null,
            "overflow_y": null,
            "overflow_x": null,
            "grid_auto_flow": null,
            "grid_area": null,
            "grid_template_columns": null,
            "flex": null,
            "_model_name": "LayoutModel",
            "justify_items": null,
            "grid_row": null,
            "max_height": null,
            "align_content": null,
            "visibility": null,
            "align_self": null,
            "height": null,
            "min_height": null,
            "padding": null,
            "grid_auto_rows": null,
            "grid_gap": null,
            "max_width": null,
            "order": null,
            "_view_module_version": "1.2.0",
            "grid_template_areas": null,
            "object_position": null,
            "object_fit": null,
            "grid_auto_columns": null,
            "margin": null,
            "display": null,
            "left": null
          }
        },
        "acd860b507604a57af28ae68c8e6a7fc": {
          "model_module": "@jupyter-widgets/base",
          "model_name": "LayoutModel",
          "state": {
            "_view_name": "LayoutView",
            "grid_template_rows": null,
            "right": null,
            "justify_content": null,
            "_view_module": "@jupyter-widgets/base",
            "overflow": "auto",
            "_model_module_version": "1.2.0",
            "_view_count": null,
            "flex_flow": null,
            "width": null,
            "min_width": "calc(50.0% - 8px)",
            "border": "2px solid rgb(50,62,236)",
            "align_items": null,
            "bottom": null,
            "_model_module": "@jupyter-widgets/base",
            "top": null,
            "grid_column": null,
            "overflow_y": null,
            "overflow_x": null,
            "grid_auto_flow": null,
            "grid_area": null,
            "grid_template_columns": null,
            "flex": null,
            "_model_name": "LayoutModel",
            "justify_items": null,
            "grid_row": null,
            "max_height": "400px",
            "align_content": null,
            "visibility": null,
            "align_self": null,
            "height": null,
            "min_height": "400px",
            "padding": "5px 5px 5px 5px",
            "grid_auto_rows": null,
            "grid_gap": null,
            "max_width": "calc(50.0% - 8px)",
            "order": null,
            "_view_module_version": "1.2.0",
            "grid_template_areas": null,
            "object_position": null,
            "object_fit": null,
            "grid_auto_columns": null,
            "margin": "5px 5px 5px 5px",
            "display": null,
            "left": null
          }
        },
        "5fd69828d4d946739d8f7e3f82478ec1": {
          "model_module": "@jupyter-widgets/controls",
          "model_name": "DropdownModel",
          "state": {
            "_options_labels": [
              "Mean",
              "Minimum",
              "1st Quartile",
              "Median",
              "3rd Quartile",
              "Maximum"
            ],
            "_view_name": "DropdownView",
            "style": "IPY_MODEL_45793d754f5f4884820477237a1d40eb",
            "_dom_classes": [],
            "description": "Metric:",
            "_model_name": "DropdownModel",
            "index": 0,
            "_view_module": "@jupyter-widgets/controls",
            "_model_module_version": "1.5.0",
            "_view_count": null,
            "disabled": false,
            "_view_module_version": "1.5.0",
            "description_tooltip": null,
            "_model_module": "@jupyter-widgets/controls",
            "layout": "IPY_MODEL_e7fac8bbd27740ef9a0522506d1db03e"
          }
        },
        "6edeb30684164b78b74ebda096d9a383": {
          "model_module": "@jupyter-widgets/controls",
          "model_name": "GridBoxModel",
          "state": {
            "_view_name": "GridBoxView",
            "_dom_classes": [],
            "_model_name": "GridBoxModel",
            "_view_module": "@jupyter-widgets/controls",
            "_model_module_version": "1.5.0",
            "_view_count": null,
            "_view_module_version": "1.5.0",
            "box_style": "",
            "layout": "IPY_MODEL_20b87987e80340b99d581a3f34623784",
            "_model_module": "@jupyter-widgets/controls",
            "children": [
              "IPY_MODEL_dac98dc96dcb43df9da05875d099677f",
              "IPY_MODEL_69e9366ab20141829ae41a3947a286d2",
              "IPY_MODEL_bdba1c1e87114647ac42bae74d014c75",
              "IPY_MODEL_d62d71ac05c64666b93cc5aeadd5c543",
              "IPY_MODEL_1231ecb59e7147028ffa87a7ceda167c",
              "IPY_MODEL_38d0a744faeb43e7996cc3b7e4dddbf4",
              "IPY_MODEL_9cf055a9fdd446d7bec1da234328ccf4",
              "IPY_MODEL_1e37966d950b48a09dea5238dfe0325e",
              "IPY_MODEL_c7581ad028cc424f8147c58e84e78066",
              "IPY_MODEL_ee9a43b400fb47d9b67ee78e3cd22beb",
              "IPY_MODEL_ad4c7299bbe2456a9ac2bbd8e26142eb",
              "IPY_MODEL_d16d0bc375d6419da0b2effb8f229121",
              "IPY_MODEL_0b7b195431e84785a7549a8487849446",
              "IPY_MODEL_0caf055f788d456185001babff364ace",
              "IPY_MODEL_ffafe9e4cef540c7b9271192f33646bf",
              "IPY_MODEL_8cf4ea469fd94236ae97bcc52a5d075a",
              "IPY_MODEL_02fde421b8aa40d9b8f09cb36a32b535",
              "IPY_MODEL_107b7979e2c841da86c373cfa7bbb7ff",
              "IPY_MODEL_42f64e45584543559093a6b501062867",
              "IPY_MODEL_c38af1119c654bdfa63218fa551672fa"
            ]
          }
        },
        "de21d0afabd342a0a3066397a39d9b05": {
          "model_module": "@jupyter-widgets/base",
          "model_name": "LayoutModel",
          "state": {
            "_view_name": "LayoutView",
            "grid_template_rows": null,
            "right": null,
            "justify_content": null,
            "_view_module": "@jupyter-widgets/base",
            "overflow": null,
            "_model_module_version": "1.2.0",
            "_view_count": null,
            "flex_flow": null,
            "width": null,
            "min_width": "calc(50.0% - 8px)",
            "border": "2px solid rgb(50,62,236)",
            "align_items": null,
            "bottom": null,
            "_model_module": "@jupyter-widgets/base",
            "top": null,
            "grid_column": null,
            "overflow_y": null,
            "overflow_x": null,
            "grid_auto_flow": null,
            "grid_area": null,
            "grid_template_columns": null,
            "flex": null,
            "_model_name": "LayoutModel",
            "justify_items": null,
            "grid_row": null,
            "max_height": "400px",
            "align_content": null,
            "visibility": null,
            "align_self": null,
            "height": null,
            "min_height": "400px",
            "padding": "5px 5px 5px 5px",
            "grid_auto_rows": null,
            "grid_gap": null,
            "max_width": "calc(50.0% - 8px)",
            "order": null,
            "_view_module_version": "1.2.0",
            "grid_template_areas": null,
            "object_position": null,
            "object_fit": null,
            "grid_auto_columns": null,
            "margin": "5px 5px 5px 5px",
            "display": null,
            "left": null
          }
        },
        "df79685f06ce4739a11c1f85d1b7b073": {
          "model_module": "@jupyter-widgets/controls",
          "model_name": "HBoxModel",
          "state": {
            "_view_name": "HBoxView",
            "_dom_classes": [],
            "_model_name": "HBoxModel",
            "_view_module": "@jupyter-widgets/controls",
            "_model_module_version": "1.5.0",
            "_view_count": null,
            "_view_module_version": "1.5.0",
            "box_style": "",
            "layout": "IPY_MODEL_b8f2215c3ee345c2824155c26f01bdd6",
            "_model_module": "@jupyter-widgets/controls",
            "children": [
              "IPY_MODEL_0f5f91804e564e719da5f0967698e973",
              "IPY_MODEL_ac5f4c1d02894735a7f3491675222f3a",
              "IPY_MODEL_7c7c1e84d0df4e22bd09f04842341836"
            ]
          }
        },
        "3ddf1013add7432eb18373f011e1b621": {
          "model_module": "plotlywidget",
          "model_name": "FigureModel",
          "state": {
            "_view_name": "FigureView",
            "_py2js_animate": {},
            "_py2js_removeLayoutProps": {},
            "_last_trace_edit_id": 1,
            "_view_module": "plotlywidget",
            "_model_module_version": "^4.14.3",
            "_view_count": 0,
            "_js2py_relayout": {},
            "_py2js_moveTraces": {},
            "_py2js_addTraces": {},
            "_model_module": "plotlywidget",
            "_py2js_relayout": null,
            "_js2py_pointsCallback": {},
            "_js2py_update": {},
            "_js2py_restyle": {},
            "_py2js_removeTraceProps": {},
            "_py2js_deleteTraces": {},
            "_dom_classes": [],
            "_model_name": "FigureModel",
            "_layout": {
              "dragmode": "lasso",
              "margin": {
                "r": 7,
                "b": 7,
                "pad": 5,
                "l": 7,
                "t": 7
              }
            },
            "_js2py_layoutDelta": {},
            "_py2js_update": {},
            "_data": [
              {
                "opacity": 0.75,
                "showlegend": false,
                "uid": "8b6f5732-abee-43f0-85da-c4a1ef8977bf",
                "type": "scatter",
                "selected": {
                  "marker": {
                    "color": "rgb(50,62,236)"
                  }
                },
                "y": {
                  "dtype": "float64",
                  "shape": [
                    150
                  ]
                },
                "mode": "markers",
                "marker": {
                  "color": "rgb(138,140,147)"
                },
                "x": {
                  "dtype": "float64",
                  "shape": [
                    150
                  ]
                },
                "unselected": {
                  "marker": {
                    "opacity": 0.375
                  }
                }
              }
            ],
            "_config": {
              "plotlyServerURL": "https://plot.ly"
            },
            "_py2js_restyle": null,
            "_view_module_version": "^4.14.3",
            "_last_layout_edit_id": 1,
            "_js2py_traceDeltas": {}
          }
        },
        "4bc5c06bdff845829fe965c1483c80c9": {
          "model_module": "@jupyter-widgets/base",
          "model_name": "LayoutModel",
          "state": {
            "_view_name": "LayoutView",
            "grid_template_rows": null,
            "right": null,
            "justify_content": null,
            "_view_module": "@jupyter-widgets/base",
            "overflow": null,
            "_model_module_version": "1.2.0",
            "_view_count": null,
            "flex_flow": null,
            "width": null,
            "min_width": "calc(50.0% - 8px)",
            "border": "2px solid rgb(50,62,236)",
            "align_items": null,
            "bottom": null,
            "_model_module": "@jupyter-widgets/base",
            "top": null,
            "grid_column": null,
            "overflow_y": null,
            "overflow_x": null,
            "grid_auto_flow": null,
            "grid_area": null,
            "grid_template_columns": null,
            "flex": null,
            "_model_name": "LayoutModel",
            "justify_items": null,
            "grid_row": null,
            "max_height": "400px",
            "align_content": null,
            "visibility": null,
            "align_self": null,
            "height": null,
            "min_height": "400px",
            "padding": "5px 5px 5px 5px",
            "grid_auto_rows": null,
            "grid_gap": null,
            "max_width": "calc(50.0% - 8px)",
            "order": null,
            "_view_module_version": "1.2.0",
            "grid_template_areas": null,
            "object_position": null,
            "object_fit": null,
            "grid_auto_columns": null,
            "margin": "5px 5px 5px 5px",
            "display": null,
            "left": null
          }
        },
        "9b260b3d4b734c2ab25cfadbe9bedc9c": {
          "model_module": "@jupyter-widgets/controls",
          "model_name": "HBoxModel",
          "state": {
            "_view_name": "HBoxView",
            "_dom_classes": [],
            "_model_name": "HBoxModel",
            "_view_module": "@jupyter-widgets/controls",
            "_model_module_version": "1.5.0",
            "_view_count": null,
            "_view_module_version": "1.5.0",
            "box_style": "",
            "layout": "IPY_MODEL_1713e87db0e9420381e8530ff34939ff",
            "_model_module": "@jupyter-widgets/controls",
            "children": [
              "IPY_MODEL_e29ee627f93c428aa3b21c9e9ce75554",
              "IPY_MODEL_bd87edb06b4c436ea2d556ccf2272de8"
            ]
          }
        },
        "8cee2069c1be4c79a2b7de8bf249b0bf": {
          "model_module": "plotlywidget",
          "model_name": "FigureModel",
          "state": {
            "_view_name": "FigureView",
            "_py2js_animate": {},
            "_py2js_removeLayoutProps": {},
            "_last_trace_edit_id": 0,
            "_view_module": "plotlywidget",
            "_model_module_version": "^4.14.3",
            "_view_count": 0,
            "_js2py_relayout": {},
            "_py2js_moveTraces": {},
            "_py2js_addTraces": {},
            "_model_module": "plotlywidget",
            "_py2js_relayout": {},
            "_js2py_pointsCallback": {},
            "_js2py_update": {},
            "_js2py_restyle": {},
            "_py2js_removeTraceProps": {},
            "_py2js_deleteTraces": {},
            "_dom_classes": [],
            "_model_name": "FigureModel",
            "_layout": {
              "barmode": "overlay",
              "showlegend": false,
              "dragmode": "select",
              "margin": {
                "r": 5,
                "b": 5,
                "pad": 2,
                "l": 5,
                "t": 5
              },
              "template": {
                "layout": {
                  "shapedefaults": {
                    "line": {
                      "color": "#2a3f5f"
                    }
                  },
                  "polar": {
                    "radialaxis": {
                      "ticks": "",
                      "gridcolor": "#EBF0F8",
                      "linecolor": "#EBF0F8"
                    },
                    "bgcolor": "white",
                    "angularaxis": {
                      "ticks": "",
                      "gridcolor": "#EBF0F8",
                      "linecolor": "#EBF0F8"
                    }
                  },
                  "colorway": [
                    "#636efa",
                    "#EF553B",
                    "#00cc96",
                    "#ab63fa",
                    "#FFA15A",
                    "#19d3f3",
                    "#FF6692",
                    "#B6E880",
                    "#FF97FF",
                    "#FECB52"
                  ],
                  "xaxis": {
                    "automargin": true,
                    "title": {
                      "standoff": 15
                    },
                    "zerolinewidth": 2,
                    "ticks": "",
                    "zerolinecolor": "#EBF0F8",
                    "gridcolor": "#EBF0F8",
                    "linecolor": "#EBF0F8"
                  },
                  "colorscale": {
                    "diverging": [
                      [
                        0,
                        "#8e0152"
                      ],
                      [
                        0.1,
                        "#c51b7d"
                      ],
                      [
                        0.2,
                        "#de77ae"
                      ],
                      [
                        0.3,
                        "#f1b6da"
                      ],
                      [
                        0.4,
                        "#fde0ef"
                      ],
                      [
                        0.5,
                        "#f7f7f7"
                      ],
                      [
                        0.6,
                        "#e6f5d0"
                      ],
                      [
                        0.7,
                        "#b8e186"
                      ],
                      [
                        0.8,
                        "#7fbc41"
                      ],
                      [
                        0.9,
                        "#4d9221"
                      ],
                      [
                        1,
                        "#276419"
                      ]
                    ],
                    "sequential": [
                      [
                        0,
                        "#0d0887"
                      ],
                      [
                        0.1111111111111111,
                        "#46039f"
                      ],
                      [
                        0.2222222222222222,
                        "#7201a8"
                      ],
                      [
                        0.3333333333333333,
                        "#9c179e"
                      ],
                      [
                        0.4444444444444444,
                        "#bd3786"
                      ],
                      [
                        0.5555555555555556,
                        "#d8576b"
                      ],
                      [
                        0.6666666666666666,
                        "#ed7953"
                      ],
                      [
                        0.7777777777777778,
                        "#fb9f3a"
                      ],
                      [
                        0.8888888888888888,
                        "#fdca26"
                      ],
                      [
                        1,
                        "#f0f921"
                      ]
                    ],
                    "sequentialminus": [
                      [
                        0,
                        "#0d0887"
                      ],
                      [
                        0.1111111111111111,
                        "#46039f"
                      ],
                      [
                        0.2222222222222222,
                        "#7201a8"
                      ],
                      [
                        0.3333333333333333,
                        "#9c179e"
                      ],
                      [
                        0.4444444444444444,
                        "#bd3786"
                      ],
                      [
                        0.5555555555555556,
                        "#d8576b"
                      ],
                      [
                        0.6666666666666666,
                        "#ed7953"
                      ],
                      [
                        0.7777777777777778,
                        "#fb9f3a"
                      ],
                      [
                        0.8888888888888888,
                        "#fdca26"
                      ],
                      [
                        1,
                        "#f0f921"
                      ]
                    ]
                  },
                  "paper_bgcolor": "white",
                  "plot_bgcolor": "white",
                  "title": {
                    "x": 0.05
                  },
                  "yaxis": {
                    "automargin": true,
                    "title": {
                      "standoff": 15
                    },
                    "zerolinewidth": 2,
                    "ticks": "",
                    "zerolinecolor": "#EBF0F8",
                    "gridcolor": "#EBF0F8",
                    "linecolor": "#EBF0F8"
                  },
                  "hoverlabel": {
                    "align": "left"
                  },
                  "scene": {
                    "zaxis": {
                      "backgroundcolor": "white",
                      "ticks": "",
                      "gridwidth": 2,
                      "showbackground": true,
                      "zerolinecolor": "#EBF0F8",
                      "gridcolor": "#DFE8F3",
                      "linecolor": "#EBF0F8"
                    },
                    "xaxis": {
                      "backgroundcolor": "white",
                      "ticks": "",
                      "gridwidth": 2,
                      "showbackground": true,
                      "zerolinecolor": "#EBF0F8",
                      "gridcolor": "#DFE8F3",
                      "linecolor": "#EBF0F8"
                    },
                    "yaxis": {
                      "backgroundcolor": "white",
                      "ticks": "",
                      "gridwidth": 2,
                      "showbackground": true,
                      "zerolinecolor": "#EBF0F8",
                      "gridcolor": "#DFE8F3",
                      "linecolor": "#EBF0F8"
                    }
                  },
                  "annotationdefaults": {
                    "arrowwidth": 1,
                    "arrowhead": 0,
                    "arrowcolor": "#2a3f5f"
                  },
                  "autotypenumbers": "strict",
                  "ternary": {
                    "bgcolor": "white",
                    "baxis": {
                      "ticks": "",
                      "gridcolor": "#DFE8F3",
                      "linecolor": "#A2B1C6"
                    },
                    "caxis": {
                      "ticks": "",
                      "gridcolor": "#DFE8F3",
                      "linecolor": "#A2B1C6"
                    },
                    "aaxis": {
                      "ticks": "",
                      "gridcolor": "#DFE8F3",
                      "linecolor": "#A2B1C6"
                    }
                  },
                  "mapbox": {
                    "style": "light"
                  },
                  "hovermode": "closest",
                  "font": {
                    "color": "#2a3f5f"
                  },
                  "geo": {
                    "showland": true,
                    "landcolor": "white",
                    "showlakes": true,
                    "bgcolor": "white",
                    "subunitcolor": "#C8D4E3",
                    "lakecolor": "white"
                  },
                  "coloraxis": {
                    "colorbar": {
                      "outlinewidth": 0,
                      "ticks": ""
                    }
                  }
                },
                "data": {
                  "mesh3d": [
                    {
                      "colorbar": {
                        "outlinewidth": 0,
                        "ticks": ""
                      },
                      "type": "mesh3d"
                    }
                  ],
                  "scattercarpet": [
                    {
                      "marker": {
                        "colorbar": {
                          "outlinewidth": 0,
                          "ticks": ""
                        }
                      },
                      "type": "scattercarpet"
                    }
                  ],
                  "pie": [
                    {
                      "automargin": true,
                      "type": "pie"
                    }
                  ],
                  "surface": [
                    {
                      "colorbar": {
                        "outlinewidth": 0,
                        "ticks": ""
                      },
                      "type": "surface",
                      "colorscale": [
                        [
                          0,
                          "#0d0887"
                        ],
                        [
                          0.1111111111111111,
                          "#46039f"
                        ],
                        [
                          0.2222222222222222,
                          "#7201a8"
                        ],
                        [
                          0.3333333333333333,
                          "#9c179e"
                        ],
                        [
                          0.4444444444444444,
                          "#bd3786"
                        ],
                        [
                          0.5555555555555556,
                          "#d8576b"
                        ],
                        [
                          0.6666666666666666,
                          "#ed7953"
                        ],
                        [
                          0.7777777777777778,
                          "#fb9f3a"
                        ],
                        [
                          0.8888888888888888,
                          "#fdca26"
                        ],
                        [
                          1,
                          "#f0f921"
                        ]
                      ]
                    }
                  ],
                  "table": [
                    {
                      "header": {
                        "line": {
                          "color": "white"
                        },
                        "fill": {
                          "color": "#C8D4E3"
                        }
                      },
                      "cells": {
                        "line": {
                          "color": "white"
                        },
                        "fill": {
                          "color": "#EBF0F8"
                        }
                      },
                      "type": "table"
                    }
                  ],
                  "scatterpolargl": [
                    {
                      "marker": {
                        "colorbar": {
                          "outlinewidth": 0,
                          "ticks": ""
                        }
                      },
                      "type": "scatterpolargl"
                    }
                  ],
                  "contour": [
                    {
                      "colorbar": {
                        "outlinewidth": 0,
                        "ticks": ""
                      },
                      "type": "contour",
                      "colorscale": [
                        [
                          0,
                          "#0d0887"
                        ],
                        [
                          0.1111111111111111,
                          "#46039f"
                        ],
                        [
                          0.2222222222222222,
                          "#7201a8"
                        ],
                        [
                          0.3333333333333333,
                          "#9c179e"
                        ],
                        [
                          0.4444444444444444,
                          "#bd3786"
                        ],
                        [
                          0.5555555555555556,
                          "#d8576b"
                        ],
                        [
                          0.6666666666666666,
                          "#ed7953"
                        ],
                        [
                          0.7777777777777778,
                          "#fb9f3a"
                        ],
                        [
                          0.8888888888888888,
                          "#fdca26"
                        ],
                        [
                          1,
                          "#f0f921"
                        ]
                      ]
                    }
                  ],
                  "carpet": [
                    {
                      "type": "carpet",
                      "baxis": {
                        "minorgridcolor": "#C8D4E3",
                        "gridcolor": "#C8D4E3",
                        "linecolor": "#C8D4E3",
                        "endlinecolor": "#2a3f5f",
                        "startlinecolor": "#2a3f5f"
                      },
                      "aaxis": {
                        "minorgridcolor": "#C8D4E3",
                        "gridcolor": "#C8D4E3",
                        "linecolor": "#C8D4E3",
                        "endlinecolor": "#2a3f5f",
                        "startlinecolor": "#2a3f5f"
                      }
                    }
                  ],
                  "contourcarpet": [
                    {
                      "colorbar": {
                        "outlinewidth": 0,
                        "ticks": ""
                      },
                      "type": "contourcarpet"
                    }
                  ],
                  "heatmap": [
                    {
                      "colorbar": {
                        "outlinewidth": 0,
                        "ticks": ""
                      },
                      "type": "heatmap",
                      "colorscale": [
                        [
                          0,
                          "#0d0887"
                        ],
                        [
                          0.1111111111111111,
                          "#46039f"
                        ],
                        [
                          0.2222222222222222,
                          "#7201a8"
                        ],
                        [
                          0.3333333333333333,
                          "#9c179e"
                        ],
                        [
                          0.4444444444444444,
                          "#bd3786"
                        ],
                        [
                          0.5555555555555556,
                          "#d8576b"
                        ],
                        [
                          0.6666666666666666,
                          "#ed7953"
                        ],
                        [
                          0.7777777777777778,
                          "#fb9f3a"
                        ],
                        [
                          0.8888888888888888,
                          "#fdca26"
                        ],
                        [
                          1,
                          "#f0f921"
                        ]
                      ]
                    }
                  ],
                  "scattermapbox": [
                    {
                      "marker": {
                        "colorbar": {
                          "outlinewidth": 0,
                          "ticks": ""
                        }
                      },
                      "type": "scattermapbox"
                    }
                  ],
                  "scatter3d": [
                    {
                      "marker": {
                        "colorbar": {
                          "outlinewidth": 0,
                          "ticks": ""
                        }
                      },
                      "line": {
                        "colorbar": {
                          "outlinewidth": 0,
                          "ticks": ""
                        }
                      },
                      "type": "scatter3d"
                    }
                  ],
                  "scattergl": [
                    {
                      "marker": {
                        "colorbar": {
                          "outlinewidth": 0,
                          "ticks": ""
                        }
                      },
                      "type": "scattergl"
                    }
                  ],
                  "scatterternary": [
                    {
                      "marker": {
                        "colorbar": {
                          "outlinewidth": 0,
                          "ticks": ""
                        }
                      },
                      "type": "scatterternary"
                    }
                  ],
                  "histogram2d": [
                    {
                      "colorbar": {
                        "outlinewidth": 0,
                        "ticks": ""
                      },
                      "type": "histogram2d",
                      "colorscale": [
                        [
                          0,
                          "#0d0887"
                        ],
                        [
                          0.1111111111111111,
                          "#46039f"
                        ],
                        [
                          0.2222222222222222,
                          "#7201a8"
                        ],
                        [
                          0.3333333333333333,
                          "#9c179e"
                        ],
                        [
                          0.4444444444444444,
                          "#bd3786"
                        ],
                        [
                          0.5555555555555556,
                          "#d8576b"
                        ],
                        [
                          0.6666666666666666,
                          "#ed7953"
                        ],
                        [
                          0.7777777777777778,
                          "#fb9f3a"
                        ],
                        [
                          0.8888888888888888,
                          "#fdca26"
                        ],
                        [
                          1,
                          "#f0f921"
                        ]
                      ]
                    }
                  ],
                  "heatmapgl": [
                    {
                      "colorbar": {
                        "outlinewidth": 0,
                        "ticks": ""
                      },
                      "type": "heatmapgl",
                      "colorscale": [
                        [
                          0,
                          "#0d0887"
                        ],
                        [
                          0.1111111111111111,
                          "#46039f"
                        ],
                        [
                          0.2222222222222222,
                          "#7201a8"
                        ],
                        [
                          0.3333333333333333,
                          "#9c179e"
                        ],
                        [
                          0.4444444444444444,
                          "#bd3786"
                        ],
                        [
                          0.5555555555555556,
                          "#d8576b"
                        ],
                        [
                          0.6666666666666666,
                          "#ed7953"
                        ],
                        [
                          0.7777777777777778,
                          "#fb9f3a"
                        ],
                        [
                          0.8888888888888888,
                          "#fdca26"
                        ],
                        [
                          1,
                          "#f0f921"
                        ]
                      ]
                    }
                  ],
                  "scatterpolar": [
                    {
                      "marker": {
                        "colorbar": {
                          "outlinewidth": 0,
                          "ticks": ""
                        }
                      },
                      "type": "scatterpolar"
                    }
                  ],
                  "histogram": [
                    {
                      "marker": {
                        "colorbar": {
                          "outlinewidth": 0,
                          "ticks": ""
                        }
                      },
                      "type": "histogram"
                    }
                  ],
                  "scattergeo": [
                    {
                      "marker": {
                        "colorbar": {
                          "outlinewidth": 0,
                          "ticks": ""
                        }
                      },
                      "type": "scattergeo"
                    }
                  ],
                  "bar": [
                    {
                      "marker": {
                        "line": {
                          "color": "white",
                          "width": 0.5
                        }
                      },
                      "type": "bar",
                      "error_x": {
                        "color": "#2a3f5f"
                      },
                      "error_y": {
                        "color": "#2a3f5f"
                      }
                    }
                  ],
                  "choropleth": [
                    {
                      "colorbar": {
                        "outlinewidth": 0,
                        "ticks": ""
                      },
                      "type": "choropleth"
                    }
                  ],
                  "parcoords": [
                    {
                      "line": {
                        "colorbar": {
                          "outlinewidth": 0,
                          "ticks": ""
                        }
                      },
                      "type": "parcoords"
                    }
                  ],
                  "barpolar": [
                    {
                      "marker": {
                        "line": {
                          "color": "white",
                          "width": 0.5
                        }
                      },
                      "type": "barpolar"
                    }
                  ],
                  "histogram2dcontour": [
                    {
                      "colorbar": {
                        "outlinewidth": 0,
                        "ticks": ""
                      },
                      "type": "histogram2dcontour",
                      "colorscale": [
                        [
                          0,
                          "#0d0887"
                        ],
                        [
                          0.1111111111111111,
                          "#46039f"
                        ],
                        [
                          0.2222222222222222,
                          "#7201a8"
                        ],
                        [
                          0.3333333333333333,
                          "#9c179e"
                        ],
                        [
                          0.4444444444444444,
                          "#bd3786"
                        ],
                        [
                          0.5555555555555556,
                          "#d8576b"
                        ],
                        [
                          0.6666666666666666,
                          "#ed7953"
                        ],
                        [
                          0.7777777777777778,
                          "#fb9f3a"
                        ],
                        [
                          0.8888888888888888,
                          "#fdca26"
                        ],
                        [
                          1,
                          "#f0f921"
                        ]
                      ]
                    }
                  ],
                  "scatter": [
                    {
                      "marker": {
                        "colorbar": {
                          "outlinewidth": 0,
                          "ticks": ""
                        }
                      },
                      "type": "scatter"
                    }
                  ]
                }
              }
            },
            "_js2py_layoutDelta": {},
            "_py2js_update": {},
            "_data": [
              {
                "opacity": 0.75,
                "uid": "fa1b3a9e-7d2a-45c2-8be5-552521044c10",
                "type": "histogram",
                "selected": {
                  "marker": {
                    "color": "rgb(138,140,147)"
                  }
                },
                "histnorm": "",
                "marker": {
                  "color": "rgb(138,140,147)"
                },
                "hoverinfo": "skip",
                "bingroup": "1",
                "x": {
                  "dtype": "float64",
                  "shape": [
                    150
                  ]
                },
                "unselected": {
                  "marker": {
                    "opacity": 0.4
                  }
                }
              },
              {
                "opacity": 1,
                "uid": "42a30ffc-e545-433f-ac7f-63eba353bbae",
                "type": "histogram",
                "selected": {
                  "marker": {
                    "color": "rgb(50,62,236)"
                  }
                },
                "histnorm": "",
                "marker": {
                  "color": "rgb(50,62,236)"
                },
                "hoverinfo": "skip",
                "bingroup": "1",
                "x": {
                  "dtype": "float64",
                  "shape": [
                    150
                  ]
                },
                "unselected": {
                  "marker": {
                    "opacity": 1
                  }
                }
              }
            ],
            "_config": {
              "plotlyServerURL": "https://plot.ly"
            },
            "_py2js_restyle": {},
            "_view_module_version": "^4.14.3",
            "_last_layout_edit_id": 0,
            "_js2py_traceDeltas": {}
          }
        },
        "29607bf665e54e009c9b32c6b92c4fc6": {
          "model_module": "@jupyter-widgets/base",
          "model_name": "LayoutModel",
          "state": {
            "_view_name": "LayoutView",
            "grid_template_rows": null,
            "right": null,
            "justify_content": null,
            "_view_module": "@jupyter-widgets/base",
            "overflow": null,
            "_model_module_version": "1.2.0",
            "_view_count": null,
            "flex_flow": null,
            "width": null,
            "min_width": "calc(50.0% - 8px)",
            "border": "2px solid rgb(50,62,236)",
            "align_items": null,
            "bottom": null,
            "_model_module": "@jupyter-widgets/base",
            "top": null,
            "grid_column": null,
            "overflow_y": null,
            "overflow_x": null,
            "grid_auto_flow": null,
            "grid_area": null,
            "grid_template_columns": null,
            "flex": null,
            "_model_name": "LayoutModel",
            "justify_items": null,
            "grid_row": null,
            "max_height": "400px",
            "align_content": null,
            "visibility": null,
            "align_self": null,
            "height": null,
            "min_height": "400px",
            "padding": "5px 5px 5px 5px",
            "grid_auto_rows": null,
            "grid_gap": null,
            "max_width": "calc(50.0% - 8px)",
            "order": null,
            "_view_module_version": "1.2.0",
            "grid_template_areas": null,
            "object_position": null,
            "object_fit": null,
            "grid_auto_columns": null,
            "margin": "5px 5px 5px 5px",
            "display": null,
            "left": null
          }
        },
        "7a098fa894d84c8db48318e764315cde": {
          "model_module": "@jupyter-widgets/controls",
          "model_name": "HBoxModel",
          "state": {
            "_view_name": "HBoxView",
            "_dom_classes": [],
            "_model_name": "HBoxModel",
            "_view_module": "@jupyter-widgets/controls",
            "_model_module_version": "1.5.0",
            "_view_count": null,
            "_view_module_version": "1.5.0",
            "box_style": "",
            "layout": "IPY_MODEL_1765b1edc40b471b8f9e1c88a3c0655a",
            "_model_module": "@jupyter-widgets/controls",
            "children": [
              "IPY_MODEL_3cc01de9706f472d9b104451c9d85f60",
              "IPY_MODEL_b868a120d18a4e01bb03b83be831805c",
              "IPY_MODEL_a9a76d2f42404a889b1a3387d1a1476d"
            ]
          }
        },
        "ee758651a9f94c209156f08fca0539cd": {
          "model_module": "plotlywidget",
          "model_name": "FigureModel",
          "state": {
            "_view_name": "FigureView",
            "_py2js_animate": {},
            "_py2js_removeLayoutProps": {},
            "_last_trace_edit_id": 1,
            "_view_module": "plotlywidget",
            "_model_module_version": "^4.14.3",
            "_view_count": 0,
            "_js2py_relayout": {},
            "_py2js_moveTraces": {},
            "_py2js_addTraces": {},
            "_model_module": "plotlywidget",
            "_py2js_relayout": null,
            "_js2py_pointsCallback": {},
            "_js2py_update": {},
            "_js2py_restyle": {},
            "_py2js_removeTraceProps": {},
            "_py2js_deleteTraces": {},
            "_dom_classes": [],
            "_model_name": "FigureModel",
            "_layout": {
              "dragmode": "lasso",
              "margin": {
                "r": 7,
                "b": 7,
                "pad": 5,
                "l": 7,
                "t": 7
              }
            },
            "_js2py_layoutDelta": {},
            "_py2js_update": {},
            "_data": [
              {
                "opacity": 0.75,
                "showlegend": false,
                "uid": "ec53e851-030b-4476-bc14-a42cba21ac5f",
                "type": "scatter",
                "selected": {
                  "marker": {
                    "color": "rgb(50,62,236)"
                  }
                },
                "y": {
                  "dtype": "float64",
                  "shape": [
                    150
                  ]
                },
                "mode": "markers",
                "marker": {
                  "color": "rgb(138,140,147)"
                },
                "x": {
                  "dtype": "float64",
                  "shape": [
                    150
                  ]
                },
                "unselected": {
                  "marker": {
                    "opacity": 0.375
                  }
                }
              }
            ],
            "_config": {
              "plotlyServerURL": "https://plot.ly"
            },
            "_py2js_restyle": null,
            "_view_module_version": "^4.14.3",
            "_last_layout_edit_id": 1,
            "_js2py_traceDeltas": {}
          }
        },
        "45793d754f5f4884820477237a1d40eb": {
          "model_module": "@jupyter-widgets/controls",
          "model_name": "DescriptionStyleModel",
          "state": {
            "_view_name": "StyleView",
            "_model_name": "DescriptionStyleModel",
            "description_width": "",
            "_view_module": "@jupyter-widgets/base",
            "_model_module_version": "1.5.0",
            "_view_count": null,
            "_view_module_version": "1.2.0",
            "_model_module": "@jupyter-widgets/controls"
          }
        },
        "e7fac8bbd27740ef9a0522506d1db03e": {
          "model_module": "@jupyter-widgets/base",
          "model_name": "LayoutModel",
          "state": {
            "_view_name": "LayoutView",
            "grid_template_rows": null,
            "right": null,
            "justify_content": null,
            "_view_module": "@jupyter-widgets/base",
            "overflow": null,
            "_model_module_version": "1.2.0",
            "_view_count": null,
            "flex_flow": null,
            "width": null,
            "min_width": null,
            "border": null,
            "align_items": null,
            "bottom": null,
            "_model_module": "@jupyter-widgets/base",
            "top": null,
            "grid_column": null,
            "overflow_y": null,
            "overflow_x": null,
            "grid_auto_flow": null,
            "grid_area": null,
            "grid_template_columns": null,
            "flex": null,
            "_model_name": "LayoutModel",
            "justify_items": null,
            "grid_row": null,
            "max_height": null,
            "align_content": null,
            "visibility": null,
            "align_self": null,
            "height": null,
            "min_height": null,
            "padding": null,
            "grid_auto_rows": null,
            "grid_gap": null,
            "max_width": null,
            "order": null,
            "_view_module_version": "1.2.0",
            "grid_template_areas": null,
            "object_position": null,
            "object_fit": null,
            "grid_auto_columns": null,
            "margin": null,
            "display": null,
            "left": null
          }
        },
        "20b87987e80340b99d581a3f34623784": {
          "model_module": "@jupyter-widgets/base",
          "model_name": "LayoutModel",
          "state": {
            "_view_name": "LayoutView",
            "grid_template_rows": "repeat(5, 1fr)",
            "right": null,
            "justify_content": null,
            "_view_module": "@jupyter-widgets/base",
            "overflow": null,
            "_model_module_version": "1.2.0",
            "_view_count": null,
            "flex_flow": null,
            "width": null,
            "min_width": null,
            "border": null,
            "align_items": null,
            "bottom": null,
            "_model_module": "@jupyter-widgets/base",
            "top": null,
            "grid_column": null,
            "overflow_y": null,
            "overflow_x": null,
            "grid_auto_flow": null,
            "grid_area": null,
            "grid_template_columns": "repeat(4, 1fr)",
            "flex": null,
            "_model_name": "LayoutModel",
            "justify_items": null,
            "grid_row": null,
            "max_height": null,
            "align_content": null,
            "visibility": null,
            "align_self": null,
            "height": "calc(100% - 40px)",
            "min_height": null,
            "padding": null,
            "grid_auto_rows": null,
            "grid_gap": null,
            "max_width": null,
            "order": null,
            "_view_module_version": "1.2.0",
            "grid_template_areas": "\"widget001 widget002 widget003 widget004\"\n\"widget005 widget006 widget007 widget008\"\n\"widget009 widget010 widget011 widget012\"\n\"widget013 widget014 widget015 widget016\"\n\"widget017 widget018 widget019 widget020\"",
            "object_position": null,
            "object_fit": null,
            "grid_auto_columns": null,
            "margin": null,
            "display": null,
            "left": null
          }
        },
        "dac98dc96dcb43df9da05875d099677f": {
          "model_module": "@jupyter-widgets/controls",
          "model_name": "HTMLModel",
          "state": {
            "_view_name": "HTMLView",
            "style": "IPY_MODEL_e401310f514c4e95b036b20eb29941e1",
            "_dom_classes": [],
            "description": "",
            "_model_name": "HTMLModel",
            "placeholder": "​",
            "_view_module": "@jupyter-widgets/controls",
            "_model_module_version": "1.5.0",
            "value": "<b>Count</b>",
            "_view_count": null,
            "_view_module_version": "1.5.0",
            "description_tooltip": null,
            "_model_module": "@jupyter-widgets/controls",
            "layout": "IPY_MODEL_d662023467e646c8822ce610e99f40e7"
          }
        },
        "69e9366ab20141829ae41a3947a286d2": {
          "model_module": "@jupyter-widgets/controls",
          "model_name": "HTMLModel",
          "state": {
            "_view_name": "HTMLView",
            "style": "IPY_MODEL_1f4456f8f7304a8d895e11fdc0f68fc7",
            "_dom_classes": [],
            "description": "",
            "_model_name": "HTMLModel",
            "placeholder": "​",
            "_view_module": "@jupyter-widgets/controls",
            "_model_module_version": "1.5.0",
            "value": "<p style=\"margin-bottom:-10px;color:black\">100%</p><p style=\"margin-bottom:-10px;color:black\">150.0000</p>",
            "_view_count": null,
            "_view_module_version": "1.5.0",
            "description_tooltip": null,
            "_model_module": "@jupyter-widgets/controls",
            "layout": "IPY_MODEL_b0f6fd3f9b944f4dbceafe001525e275"
          }
        },
        "bdba1c1e87114647ac42bae74d014c75": {
          "model_module": "@jupyter-widgets/controls",
          "model_name": "HTMLModel",
          "state": {
            "_view_name": "HTMLView",
            "style": "IPY_MODEL_4fbe5f971ca9429fb84960ce057b9802",
            "_dom_classes": [],
            "description": "",
            "_model_name": "HTMLModel",
            "placeholder": "​",
            "_view_module": "@jupyter-widgets/controls",
            "_model_module_version": "1.5.0",
            "value": "<p style=\"margin-bottom:-10px;color:black\">100%</p><p style=\"margin-bottom:-10px;color:black\">150.0000</p>",
            "_view_count": null,
            "_view_module_version": "1.5.0",
            "description_tooltip": null,
            "_model_module": "@jupyter-widgets/controls",
            "layout": "IPY_MODEL_884c1a07323645d5be590e62b9ec7b17"
          }
        },
        "d62d71ac05c64666b93cc5aeadd5c543": {
          "model_module": "@jupyter-widgets/controls",
          "model_name": "HTMLModel",
          "state": {
            "_view_name": "HTMLView",
            "style": "IPY_MODEL_27c73a2c3a134df783227fcfad5af0fd",
            "_dom_classes": [],
            "description": "",
            "_model_name": "HTMLModel",
            "placeholder": "​",
            "_view_module": "@jupyter-widgets/controls",
            "_model_module_version": "1.5.0",
            "value": "",
            "_view_count": null,
            "_view_module_version": "1.5.0",
            "description_tooltip": null,
            "_model_module": "@jupyter-widgets/controls",
            "layout": "IPY_MODEL_c9b4db17214b4007a323484b536e504a"
          }
        },
        "1231ecb59e7147028ffa87a7ceda167c": {
          "model_module": "@jupyter-widgets/controls",
          "model_name": "HTMLModel",
          "state": {
            "_view_name": "HTMLView",
            "style": "IPY_MODEL_00bb8e23a7b04b75a32a18b460acf6cb",
            "_dom_classes": [],
            "description": "",
            "_model_name": "HTMLModel",
            "placeholder": "​",
            "_view_module": "@jupyter-widgets/controls",
            "_model_module_version": "1.5.0",
            "value": "<b>SepalLengthCm</b>",
            "_view_count": null,
            "_view_module_version": "1.5.0",
            "description_tooltip": null,
            "_model_module": "@jupyter-widgets/controls",
            "layout": "IPY_MODEL_35b23054e84848d68f36c01d2b83ceed"
          }
        },
        "38d0a744faeb43e7996cc3b7e4dddbf4": {
          "model_module": "@jupyter-widgets/controls",
          "model_name": "HTMLModel",
          "state": {
            "_view_name": "HTMLView",
            "style": "IPY_MODEL_3db4062f00034c208939bc39df6ac3c4",
            "_dom_classes": [],
            "description": "",
            "_model_name": "HTMLModel",
            "placeholder": "​",
            "_view_module": "@jupyter-widgets/controls",
            "_model_module_version": "1.5.0",
            "value": "<p style=\"margin-bottom:-10px;color:black\">100%</p><p style=\"margin-bottom:-10px;color:black\">5.8433</p>",
            "_view_count": null,
            "_view_module_version": "1.5.0",
            "description_tooltip": null,
            "_model_module": "@jupyter-widgets/controls",
            "layout": "IPY_MODEL_7c60abf2742f48a78c23b869dde834df"
          }
        },
        "9cf055a9fdd446d7bec1da234328ccf4": {
          "model_module": "@jupyter-widgets/controls",
          "model_name": "HTMLModel",
          "state": {
            "_view_name": "HTMLView",
            "style": "IPY_MODEL_2fe9c1889d454c54a8f711b29633657b",
            "_dom_classes": [],
            "description": "",
            "_model_name": "HTMLModel",
            "placeholder": "​",
            "_view_module": "@jupyter-widgets/controls",
            "_model_module_version": "1.5.0",
            "value": "<p style=\"margin-bottom:-10px;color:black\">100%</p><p style=\"margin-bottom:-10px;color:black\">5.8433</p>",
            "_view_count": null,
            "_view_module_version": "1.5.0",
            "description_tooltip": null,
            "_model_module": "@jupyter-widgets/controls",
            "layout": "IPY_MODEL_e650c017985e4acab2232473defa2592"
          }
        },
        "1e37966d950b48a09dea5238dfe0325e": {
          "model_module": "@jupyter-widgets/controls",
          "model_name": "HTMLModel",
          "state": {
            "_view_name": "HTMLView",
            "style": "IPY_MODEL_bd1f052abd824112b5eceba8ba1190a0",
            "_dom_classes": [],
            "description": "",
            "_model_name": "HTMLModel",
            "placeholder": "​",
            "_view_module": "@jupyter-widgets/controls",
            "_model_module_version": "1.5.0",
            "value": "<svg xmlns=\"http://www.w3.org/2000/svg\" width=\"12\" height=\"12\" viewBox=\"0 0 24 24\" fill=\"red\"><path d=\"M12 21l-12-18h24z\"/></svg>",
            "_view_count": null,
            "_view_module_version": "1.5.0",
            "description_tooltip": null,
            "_model_module": "@jupyter-widgets/controls",
            "layout": "IPY_MODEL_a25bb83258ff4f53895ad85477801e3e"
          }
        },
        "c7581ad028cc424f8147c58e84e78066": {
          "model_module": "@jupyter-widgets/controls",
          "model_name": "HTMLModel",
          "state": {
            "_view_name": "HTMLView",
            "style": "IPY_MODEL_d3fbf3ed7b7a4b7aa1bf1ac979a1ddbd",
            "_dom_classes": [],
            "description": "",
            "_model_name": "HTMLModel",
            "placeholder": "​",
            "_view_module": "@jupyter-widgets/controls",
            "_model_module_version": "1.5.0",
            "value": "<b>SepalWidthCm</b>",
            "_view_count": null,
            "_view_module_version": "1.5.0",
            "description_tooltip": null,
            "_model_module": "@jupyter-widgets/controls",
            "layout": "IPY_MODEL_82874dbb9b0e491b96deb15cd7f88d59"
          }
        },
        "ee9a43b400fb47d9b67ee78e3cd22beb": {
          "model_module": "@jupyter-widgets/controls",
          "model_name": "HTMLModel",
          "state": {
            "_view_name": "HTMLView",
            "style": "IPY_MODEL_480c4380789043a4a8f3b32ad8ee95f4",
            "_dom_classes": [],
            "description": "",
            "_model_name": "HTMLModel",
            "placeholder": "​",
            "_view_module": "@jupyter-widgets/controls",
            "_model_module_version": "1.5.0",
            "value": "<p style=\"margin-bottom:-10px;color:black\">100%</p><p style=\"margin-bottom:-10px;color:black\">3.0540</p>",
            "_view_count": null,
            "_view_module_version": "1.5.0",
            "description_tooltip": null,
            "_model_module": "@jupyter-widgets/controls",
            "layout": "IPY_MODEL_2a7c115fa3154bb888803bf9a31e92f1"
          }
        },
        "ad4c7299bbe2456a9ac2bbd8e26142eb": {
          "model_module": "@jupyter-widgets/controls",
          "model_name": "HTMLModel",
          "state": {
            "_view_name": "HTMLView",
            "style": "IPY_MODEL_1d4ec012798b4ae0b1147b0f4283eb85",
            "_dom_classes": [],
            "description": "",
            "_model_name": "HTMLModel",
            "placeholder": "​",
            "_view_module": "@jupyter-widgets/controls",
            "_model_module_version": "1.5.0",
            "value": "<p style=\"margin-bottom:-10px;color:black\">100%</p><p style=\"margin-bottom:-10px;color:black\">3.0540</p>",
            "_view_count": null,
            "_view_module_version": "1.5.0",
            "description_tooltip": null,
            "_model_module": "@jupyter-widgets/controls",
            "layout": "IPY_MODEL_53684f7aa3fb41d19437f658ea50009d"
          }
        },
        "d16d0bc375d6419da0b2effb8f229121": {
          "model_module": "@jupyter-widgets/controls",
          "model_name": "HTMLModel",
          "state": {
            "_view_name": "HTMLView",
            "style": "IPY_MODEL_50a4c5c4ab9049be907e86dae832b83e",
            "_dom_classes": [],
            "description": "",
            "_model_name": "HTMLModel",
            "placeholder": "​",
            "_view_module": "@jupyter-widgets/controls",
            "_model_module_version": "1.5.0",
            "value": "<svg xmlns=\"http://www.w3.org/2000/svg\" width=\"12\" height=\"12\" viewBox=\"0 0 24 24\" fill=\"red\"><path d=\"M12 21l-12-18h24z\"/></svg>",
            "_view_count": null,
            "_view_module_version": "1.5.0",
            "description_tooltip": null,
            "_model_module": "@jupyter-widgets/controls",
            "layout": "IPY_MODEL_fb9f33c2a9174e879d242afabf905d71"
          }
        },
        "0b7b195431e84785a7549a8487849446": {
          "model_module": "@jupyter-widgets/controls",
          "model_name": "HTMLModel",
          "state": {
            "_view_name": "HTMLView",
            "style": "IPY_MODEL_bed30217be3d45d9a64f66f979714139",
            "_dom_classes": [],
            "description": "",
            "_model_name": "HTMLModel",
            "placeholder": "​",
            "_view_module": "@jupyter-widgets/controls",
            "_model_module_version": "1.5.0",
            "value": "<b>PetalLengthCm</b>",
            "_view_count": null,
            "_view_module_version": "1.5.0",
            "description_tooltip": null,
            "_model_module": "@jupyter-widgets/controls",
            "layout": "IPY_MODEL_f23d23fc53a54741966bf1bb3ea3ed52"
          }
        },
        "0caf055f788d456185001babff364ace": {
          "model_module": "@jupyter-widgets/controls",
          "model_name": "HTMLModel",
          "state": {
            "_view_name": "HTMLView",
            "style": "IPY_MODEL_3b2645f745ae4fdc830d71d68ecfa545",
            "_dom_classes": [],
            "description": "",
            "_model_name": "HTMLModel",
            "placeholder": "​",
            "_view_module": "@jupyter-widgets/controls",
            "_model_module_version": "1.5.0",
            "value": "<p style=\"margin-bottom:-10px;color:black\">100%</p><p style=\"margin-bottom:-10px;color:black\">3.7587</p>",
            "_view_count": null,
            "_view_module_version": "1.5.0",
            "description_tooltip": null,
            "_model_module": "@jupyter-widgets/controls",
            "layout": "IPY_MODEL_e4fedb6a3e33470b9600ca84bb62ad44"
          }
        },
        "ffafe9e4cef540c7b9271192f33646bf": {
          "model_module": "@jupyter-widgets/controls",
          "model_name": "HTMLModel",
          "state": {
            "_view_name": "HTMLView",
            "style": "IPY_MODEL_79f47b00537c4feba48c9a626d9b0325",
            "_dom_classes": [],
            "description": "",
            "_model_name": "HTMLModel",
            "placeholder": "​",
            "_view_module": "@jupyter-widgets/controls",
            "_model_module_version": "1.5.0",
            "value": "<p style=\"margin-bottom:-10px;color:black\">100%</p><p style=\"margin-bottom:-10px;color:black\">3.7587</p>",
            "_view_count": null,
            "_view_module_version": "1.5.0",
            "description_tooltip": null,
            "_model_module": "@jupyter-widgets/controls",
            "layout": "IPY_MODEL_929e2444460a45e69f6c6c02567d815f"
          }
        },
        "8cf4ea469fd94236ae97bcc52a5d075a": {
          "model_module": "@jupyter-widgets/controls",
          "model_name": "HTMLModel",
          "state": {
            "_view_name": "HTMLView",
            "style": "IPY_MODEL_665e2be1853743ea9cb60b81c538c7cd",
            "_dom_classes": [],
            "description": "",
            "_model_name": "HTMLModel",
            "placeholder": "​",
            "_view_module": "@jupyter-widgets/controls",
            "_model_module_version": "1.5.0",
            "value": "<svg xmlns=\"http://www.w3.org/2000/svg\" width=\"12\" height=\"12\" viewBox=\"0 0 24 24\" fill=\"red\"><path d=\"M12 21l-12-18h24z\"/></svg>",
            "_view_count": null,
            "_view_module_version": "1.5.0",
            "description_tooltip": null,
            "_model_module": "@jupyter-widgets/controls",
            "layout": "IPY_MODEL_0a74a306c88d4e1aa671dbaa12d35722"
          }
        },
        "02fde421b8aa40d9b8f09cb36a32b535": {
          "model_module": "@jupyter-widgets/controls",
          "model_name": "HTMLModel",
          "state": {
            "_view_name": "HTMLView",
            "style": "IPY_MODEL_25808fe1523b4cb99e8ef6057147b898",
            "_dom_classes": [],
            "description": "",
            "_model_name": "HTMLModel",
            "placeholder": "​",
            "_view_module": "@jupyter-widgets/controls",
            "_model_module_version": "1.5.0",
            "value": "<b>PetalWidthCm</b>",
            "_view_count": null,
            "_view_module_version": "1.5.0",
            "description_tooltip": null,
            "_model_module": "@jupyter-widgets/controls",
            "layout": "IPY_MODEL_e6a9a0ff623744b49221870553b127b5"
          }
        },
        "107b7979e2c841da86c373cfa7bbb7ff": {
          "model_module": "@jupyter-widgets/controls",
          "model_name": "HTMLModel",
          "state": {
            "_view_name": "HTMLView",
            "style": "IPY_MODEL_d06667248b1149ce852b830e815f0252",
            "_dom_classes": [],
            "description": "",
            "_model_name": "HTMLModel",
            "placeholder": "​",
            "_view_module": "@jupyter-widgets/controls",
            "_model_module_version": "1.5.0",
            "value": "<p style=\"margin-bottom:-10px;color:black\">100%</p><p style=\"margin-bottom:-10px;color:black\">1.1987</p>",
            "_view_count": null,
            "_view_module_version": "1.5.0",
            "description_tooltip": null,
            "_model_module": "@jupyter-widgets/controls",
            "layout": "IPY_MODEL_552bb884de134f6f8ced0b84f0d9af1a"
          }
        },
        "42f64e45584543559093a6b501062867": {
          "model_module": "@jupyter-widgets/controls",
          "model_name": "HTMLModel",
          "state": {
            "_view_name": "HTMLView",
            "style": "IPY_MODEL_95848e99e37845b7984ef8318f9a2dda",
            "_dom_classes": [],
            "description": "",
            "_model_name": "HTMLModel",
            "placeholder": "​",
            "_view_module": "@jupyter-widgets/controls",
            "_model_module_version": "1.5.0",
            "value": "<p style=\"margin-bottom:-10px;color:black\">100%</p><p style=\"margin-bottom:-10px;color:black\">1.1987</p>",
            "_view_count": null,
            "_view_module_version": "1.5.0",
            "description_tooltip": null,
            "_model_module": "@jupyter-widgets/controls",
            "layout": "IPY_MODEL_cf593397a5df4edeb9184a592658a6b0"
          }
        },
        "c38af1119c654bdfa63218fa551672fa": {
          "model_module": "@jupyter-widgets/controls",
          "model_name": "HTMLModel",
          "state": {
            "_view_name": "HTMLView",
            "style": "IPY_MODEL_79378ed7454540c093421141e0e8ca13",
            "_dom_classes": [],
            "description": "",
            "_model_name": "HTMLModel",
            "placeholder": "​",
            "_view_module": "@jupyter-widgets/controls",
            "_model_module_version": "1.5.0",
            "value": "<svg xmlns=\"http://www.w3.org/2000/svg\" width=\"12\" height=\"12\" viewBox=\"0 0 24 24\" fill=\"red\"><path d=\"M12 21l-12-18h24z\"/></svg>",
            "_view_count": null,
            "_view_module_version": "1.5.0",
            "description_tooltip": null,
            "_model_module": "@jupyter-widgets/controls",
            "layout": "IPY_MODEL_d3ef2b76064f40ae8b9b57945d73fa66"
          }
        },
        "b8f2215c3ee345c2824155c26f01bdd6": {
          "model_module": "@jupyter-widgets/base",
          "model_name": "LayoutModel",
          "state": {
            "_view_name": "LayoutView",
            "grid_template_rows": null,
            "right": null,
            "justify_content": null,
            "_view_module": "@jupyter-widgets/base",
            "overflow": null,
            "_model_module_version": "1.2.0",
            "_view_count": null,
            "flex_flow": null,
            "width": null,
            "min_width": null,
            "border": null,
            "align_items": null,
            "bottom": null,
            "_model_module": "@jupyter-widgets/base",
            "top": null,
            "grid_column": null,
            "overflow_y": null,
            "overflow_x": null,
            "grid_auto_flow": null,
            "grid_area": null,
            "grid_template_columns": null,
            "flex": null,
            "_model_name": "LayoutModel",
            "justify_items": null,
            "grid_row": null,
            "max_height": null,
            "align_content": null,
            "visibility": null,
            "align_self": null,
            "height": null,
            "min_height": null,
            "padding": null,
            "grid_auto_rows": null,
            "grid_gap": null,
            "max_width": "100%",
            "order": null,
            "_view_module_version": "1.2.0",
            "grid_template_areas": null,
            "object_position": null,
            "object_fit": null,
            "grid_auto_columns": null,
            "margin": null,
            "display": null,
            "left": null
          }
        },
        "0f5f91804e564e719da5f0967698e973": {
          "model_module": "@jupyter-widgets/controls",
          "model_name": "DropdownModel",
          "state": {
            "_options_labels": [
              "SepalLengthCm",
              "SepalWidthCm",
              "PetalLengthCm",
              "PetalWidthCm",
              "Species"
            ],
            "_view_name": "DropdownView",
            "style": "IPY_MODEL_10a4af5699484d4b80718487f66a8c08",
            "_dom_classes": [],
            "description": "x:",
            "_model_name": "DropdownModel",
            "index": 0,
            "_view_module": "@jupyter-widgets/controls",
            "_model_module_version": "1.5.0",
            "_view_count": null,
            "disabled": false,
            "_view_module_version": "1.5.0",
            "description_tooltip": null,
            "_model_module": "@jupyter-widgets/controls",
            "layout": "IPY_MODEL_1244e620f8164d4e972f62c2eb13f9a5"
          }
        },
        "ac5f4c1d02894735a7f3491675222f3a": {
          "model_module": "@jupyter-widgets/controls",
          "model_name": "DropdownModel",
          "state": {
            "_options_labels": [
              "SepalLengthCm",
              "SepalWidthCm",
              "PetalLengthCm",
              "PetalWidthCm",
              "Species"
            ],
            "_view_name": "DropdownView",
            "style": "IPY_MODEL_7f6177763dea4746a61ff4a40e039571",
            "_dom_classes": [],
            "description": "y:",
            "_model_name": "DropdownModel",
            "index": 1,
            "_view_module": "@jupyter-widgets/controls",
            "_model_module_version": "1.5.0",
            "_view_count": null,
            "disabled": false,
            "_view_module_version": "1.5.0",
            "description_tooltip": null,
            "_model_module": "@jupyter-widgets/controls",
            "layout": "IPY_MODEL_4d9a046a0f0c48a28780ec70720c402b"
          }
        },
        "7c7c1e84d0df4e22bd09f04842341836": {
          "model_module": "@jupyter-widgets/controls",
          "model_name": "DropdownModel",
          "state": {
            "_options_labels": [
              "None",
              "SepalLengthCm",
              "SepalWidthCm",
              "PetalLengthCm",
              "PetalWidthCm"
            ],
            "_view_name": "DropdownView",
            "style": "IPY_MODEL_d73c873991d64195910e3707cdd1a6de",
            "_dom_classes": [],
            "description": "Size:",
            "_model_name": "DropdownModel",
            "index": 0,
            "_view_module": "@jupyter-widgets/controls",
            "_model_module_version": "1.5.0",
            "_view_count": null,
            "disabled": false,
            "_view_module_version": "1.5.0",
            "description_tooltip": null,
            "_model_module": "@jupyter-widgets/controls",
            "layout": "IPY_MODEL_14a91e0c88a44f0eb1f47b8c465ac19a"
          }
        },
        "1713e87db0e9420381e8530ff34939ff": {
          "model_module": "@jupyter-widgets/base",
          "model_name": "LayoutModel",
          "state": {
            "_view_name": "LayoutView",
            "grid_template_rows": null,
            "right": null,
            "justify_content": null,
            "_view_module": "@jupyter-widgets/base",
            "overflow": null,
            "_model_module_version": "1.2.0",
            "_view_count": null,
            "flex_flow": null,
            "width": null,
            "min_width": null,
            "border": null,
            "align_items": null,
            "bottom": null,
            "_model_module": "@jupyter-widgets/base",
            "top": null,
            "grid_column": null,
            "overflow_y": null,
            "overflow_x": null,
            "grid_auto_flow": null,
            "grid_area": null,
            "grid_template_columns": null,
            "flex": null,
            "_model_name": "LayoutModel",
            "justify_items": null,
            "grid_row": null,
            "max_height": null,
            "align_content": null,
            "visibility": null,
            "align_self": null,
            "height": null,
            "min_height": null,
            "padding": null,
            "grid_auto_rows": null,
            "grid_gap": null,
            "max_width": null,
            "order": null,
            "_view_module_version": "1.2.0",
            "grid_template_areas": null,
            "object_position": null,
            "object_fit": null,
            "grid_auto_columns": null,
            "margin": null,
            "display": null,
            "left": null
          }
        },
        "e29ee627f93c428aa3b21c9e9ce75554": {
          "model_module": "@jupyter-widgets/controls",
          "model_name": "DropdownModel",
          "state": {
            "_options_labels": [
              "SepalLengthCm",
              "SepalWidthCm",
              "PetalLengthCm",
              "PetalWidthCm",
              "Species"
            ],
            "_view_name": "DropdownView",
            "style": "IPY_MODEL_220dce51678e4522bfb77146f638c4c9",
            "_dom_classes": [],
            "description": "Column:",
            "_model_name": "DropdownModel",
            "index": 2,
            "_view_module": "@jupyter-widgets/controls",
            "_model_module_version": "1.5.0",
            "_view_count": null,
            "disabled": false,
            "_view_module_version": "1.5.0",
            "description_tooltip": null,
            "_model_module": "@jupyter-widgets/controls",
            "layout": "IPY_MODEL_3b6f88888ff94033804417ca0ed862b6"
          }
        },
        "bd87edb06b4c436ea2d556ccf2272de8": {
          "model_module": "@jupyter-widgets/controls",
          "model_name": "CheckboxModel",
          "state": {
            "_view_name": "CheckboxView",
            "style": "IPY_MODEL_024929c43d384737815bf01cb8294ad1",
            "_dom_classes": [],
            "description": "Normalize",
            "_model_name": "CheckboxModel",
            "_view_module": "@jupyter-widgets/controls",
            "_model_module_version": "1.5.0",
            "value": false,
            "_view_count": null,
            "disabled": false,
            "_view_module_version": "1.5.0",
            "indent": false,
            "description_tooltip": null,
            "_model_module": "@jupyter-widgets/controls",
            "layout": "IPY_MODEL_876e113dd6f84984b71c130b1af9f336"
          }
        },
        "1765b1edc40b471b8f9e1c88a3c0655a": {
          "model_module": "@jupyter-widgets/base",
          "model_name": "LayoutModel",
          "state": {
            "_view_name": "LayoutView",
            "grid_template_rows": null,
            "right": null,
            "justify_content": null,
            "_view_module": "@jupyter-widgets/base",
            "overflow": null,
            "_model_module_version": "1.2.0",
            "_view_count": null,
            "flex_flow": null,
            "width": null,
            "min_width": null,
            "border": null,
            "align_items": null,
            "bottom": null,
            "_model_module": "@jupyter-widgets/base",
            "top": null,
            "grid_column": null,
            "overflow_y": null,
            "overflow_x": null,
            "grid_auto_flow": null,
            "grid_area": null,
            "grid_template_columns": null,
            "flex": null,
            "_model_name": "LayoutModel",
            "justify_items": null,
            "grid_row": null,
            "max_height": null,
            "align_content": null,
            "visibility": null,
            "align_self": null,
            "height": null,
            "min_height": null,
            "padding": null,
            "grid_auto_rows": null,
            "grid_gap": null,
            "max_width": "100%",
            "order": null,
            "_view_module_version": "1.2.0",
            "grid_template_areas": null,
            "object_position": null,
            "object_fit": null,
            "grid_auto_columns": null,
            "margin": null,
            "display": null,
            "left": null
          }
        },
        "3cc01de9706f472d9b104451c9d85f60": {
          "model_module": "@jupyter-widgets/controls",
          "model_name": "DropdownModel",
          "state": {
            "_options_labels": [
              "SepalLengthCm",
              "SepalWidthCm",
              "PetalLengthCm",
              "PetalWidthCm",
              "Species"
            ],
            "_view_name": "DropdownView",
            "style": "IPY_MODEL_a7a6d2686600428787fdfcb37527d3e7",
            "_dom_classes": [],
            "description": "x:",
            "_model_name": "DropdownModel",
            "index": 3,
            "_view_module": "@jupyter-widgets/controls",
            "_model_module_version": "1.5.0",
            "_view_count": null,
            "disabled": false,
            "_view_module_version": "1.5.0",
            "description_tooltip": null,
            "_model_module": "@jupyter-widgets/controls",
            "layout": "IPY_MODEL_67da965136964400a4bcea7bd3db72dd"
          }
        },
        "b868a120d18a4e01bb03b83be831805c": {
          "model_module": "@jupyter-widgets/controls",
          "model_name": "DropdownModel",
          "state": {
            "_options_labels": [
              "SepalLengthCm",
              "SepalWidthCm",
              "PetalLengthCm",
              "PetalWidthCm",
              "Species"
            ],
            "_view_name": "DropdownView",
            "style": "IPY_MODEL_25113bedaac34554b6affa51ef63493c",
            "_dom_classes": [],
            "description": "y:",
            "_model_name": "DropdownModel",
            "index": 0,
            "_view_module": "@jupyter-widgets/controls",
            "_model_module_version": "1.5.0",
            "_view_count": null,
            "disabled": false,
            "_view_module_version": "1.5.0",
            "description_tooltip": null,
            "_model_module": "@jupyter-widgets/controls",
            "layout": "IPY_MODEL_ac4cfb6490474f66a9bb51a8678b5e9a"
          }
        },
        "a9a76d2f42404a889b1a3387d1a1476d": {
          "model_module": "@jupyter-widgets/controls",
          "model_name": "DropdownModel",
          "state": {
            "_options_labels": [
              "None",
              "SepalLengthCm",
              "SepalWidthCm",
              "PetalLengthCm",
              "PetalWidthCm"
            ],
            "_view_name": "DropdownView",
            "style": "IPY_MODEL_6b78dff83044467a8c3909be79dc009f",
            "_dom_classes": [],
            "description": "Size:",
            "_model_name": "DropdownModel",
            "index": 0,
            "_view_module": "@jupyter-widgets/controls",
            "_model_module_version": "1.5.0",
            "_view_count": null,
            "disabled": false,
            "_view_module_version": "1.5.0",
            "description_tooltip": null,
            "_model_module": "@jupyter-widgets/controls",
            "layout": "IPY_MODEL_73f1c78977b149c98451c8a8eb425ec2"
          }
        },
        "e401310f514c4e95b036b20eb29941e1": {
          "model_module": "@jupyter-widgets/controls",
          "model_name": "DescriptionStyleModel",
          "state": {
            "_view_name": "StyleView",
            "_model_name": "DescriptionStyleModel",
            "description_width": "",
            "_view_module": "@jupyter-widgets/base",
            "_model_module_version": "1.5.0",
            "_view_count": null,
            "_view_module_version": "1.2.0",
            "_model_module": "@jupyter-widgets/controls"
          }
        },
        "d662023467e646c8822ce610e99f40e7": {
          "model_module": "@jupyter-widgets/base",
          "model_name": "LayoutModel",
          "state": {
            "_view_name": "LayoutView",
            "grid_template_rows": null,
            "right": null,
            "justify_content": null,
            "_view_module": "@jupyter-widgets/base",
            "overflow": null,
            "_model_module_version": "1.2.0",
            "_view_count": null,
            "flex_flow": null,
            "width": null,
            "min_width": null,
            "border": null,
            "align_items": null,
            "bottom": null,
            "_model_module": "@jupyter-widgets/base",
            "top": null,
            "grid_column": null,
            "overflow_y": null,
            "overflow_x": null,
            "grid_auto_flow": null,
            "grid_area": "widget001",
            "grid_template_columns": null,
            "flex": null,
            "_model_name": "LayoutModel",
            "justify_items": null,
            "grid_row": null,
            "max_height": null,
            "align_content": null,
            "visibility": null,
            "align_self": null,
            "height": null,
            "min_height": null,
            "padding": null,
            "grid_auto_rows": null,
            "grid_gap": null,
            "max_width": null,
            "order": null,
            "_view_module_version": "1.2.0",
            "grid_template_areas": null,
            "object_position": null,
            "object_fit": null,
            "grid_auto_columns": null,
            "margin": null,
            "display": null,
            "left": null
          }
        },
        "1f4456f8f7304a8d895e11fdc0f68fc7": {
          "model_module": "@jupyter-widgets/controls",
          "model_name": "DescriptionStyleModel",
          "state": {
            "_view_name": "StyleView",
            "_model_name": "DescriptionStyleModel",
            "description_width": "",
            "_view_module": "@jupyter-widgets/base",
            "_model_module_version": "1.5.0",
            "_view_count": null,
            "_view_module_version": "1.2.0",
            "_model_module": "@jupyter-widgets/controls"
          }
        },
        "b0f6fd3f9b944f4dbceafe001525e275": {
          "model_module": "@jupyter-widgets/base",
          "model_name": "LayoutModel",
          "state": {
            "_view_name": "LayoutView",
            "grid_template_rows": null,
            "right": null,
            "justify_content": null,
            "_view_module": "@jupyter-widgets/base",
            "overflow": null,
            "_model_module_version": "1.2.0",
            "_view_count": null,
            "flex_flow": null,
            "width": null,
            "min_width": null,
            "border": null,
            "align_items": null,
            "bottom": null,
            "_model_module": "@jupyter-widgets/base",
            "top": null,
            "grid_column": null,
            "overflow_y": null,
            "overflow_x": null,
            "grid_auto_flow": null,
            "grid_area": "widget002",
            "grid_template_columns": null,
            "flex": null,
            "_model_name": "LayoutModel",
            "justify_items": null,
            "grid_row": null,
            "max_height": null,
            "align_content": null,
            "visibility": null,
            "align_self": null,
            "height": null,
            "min_height": null,
            "padding": null,
            "grid_auto_rows": null,
            "grid_gap": null,
            "max_width": null,
            "order": null,
            "_view_module_version": "1.2.0",
            "grid_template_areas": null,
            "object_position": null,
            "object_fit": null,
            "grid_auto_columns": null,
            "margin": null,
            "display": null,
            "left": null
          }
        },
        "4fbe5f971ca9429fb84960ce057b9802": {
          "model_module": "@jupyter-widgets/controls",
          "model_name": "DescriptionStyleModel",
          "state": {
            "_view_name": "StyleView",
            "_model_name": "DescriptionStyleModel",
            "description_width": "",
            "_view_module": "@jupyter-widgets/base",
            "_model_module_version": "1.5.0",
            "_view_count": null,
            "_view_module_version": "1.2.0",
            "_model_module": "@jupyter-widgets/controls"
          }
        },
        "884c1a07323645d5be590e62b9ec7b17": {
          "model_module": "@jupyter-widgets/base",
          "model_name": "LayoutModel",
          "state": {
            "_view_name": "LayoutView",
            "grid_template_rows": null,
            "right": null,
            "justify_content": null,
            "_view_module": "@jupyter-widgets/base",
            "overflow": null,
            "_model_module_version": "1.2.0",
            "_view_count": null,
            "flex_flow": null,
            "width": null,
            "min_width": null,
            "border": null,
            "align_items": null,
            "bottom": null,
            "_model_module": "@jupyter-widgets/base",
            "top": null,
            "grid_column": null,
            "overflow_y": null,
            "overflow_x": null,
            "grid_auto_flow": null,
            "grid_area": "widget003",
            "grid_template_columns": null,
            "flex": null,
            "_model_name": "LayoutModel",
            "justify_items": null,
            "grid_row": null,
            "max_height": null,
            "align_content": null,
            "visibility": null,
            "align_self": null,
            "height": null,
            "min_height": null,
            "padding": null,
            "grid_auto_rows": null,
            "grid_gap": null,
            "max_width": null,
            "order": null,
            "_view_module_version": "1.2.0",
            "grid_template_areas": null,
            "object_position": null,
            "object_fit": null,
            "grid_auto_columns": null,
            "margin": null,
            "display": null,
            "left": null
          }
        },
        "27c73a2c3a134df783227fcfad5af0fd": {
          "model_module": "@jupyter-widgets/controls",
          "model_name": "DescriptionStyleModel",
          "state": {
            "_view_name": "StyleView",
            "_model_name": "DescriptionStyleModel",
            "description_width": "",
            "_view_module": "@jupyter-widgets/base",
            "_model_module_version": "1.5.0",
            "_view_count": null,
            "_view_module_version": "1.2.0",
            "_model_module": "@jupyter-widgets/controls"
          }
        },
        "c9b4db17214b4007a323484b536e504a": {
          "model_module": "@jupyter-widgets/base",
          "model_name": "LayoutModel",
          "state": {
            "_view_name": "LayoutView",
            "grid_template_rows": null,
            "right": null,
            "justify_content": null,
            "_view_module": "@jupyter-widgets/base",
            "overflow": null,
            "_model_module_version": "1.2.0",
            "_view_count": null,
            "flex_flow": null,
            "width": null,
            "min_width": null,
            "border": null,
            "align_items": null,
            "bottom": null,
            "_model_module": "@jupyter-widgets/base",
            "top": null,
            "grid_column": null,
            "overflow_y": null,
            "overflow_x": null,
            "grid_auto_flow": null,
            "grid_area": "widget004",
            "grid_template_columns": null,
            "flex": null,
            "_model_name": "LayoutModel",
            "justify_items": null,
            "grid_row": null,
            "max_height": null,
            "align_content": null,
            "visibility": null,
            "align_self": null,
            "height": null,
            "min_height": null,
            "padding": null,
            "grid_auto_rows": null,
            "grid_gap": null,
            "max_width": null,
            "order": null,
            "_view_module_version": "1.2.0",
            "grid_template_areas": null,
            "object_position": null,
            "object_fit": null,
            "grid_auto_columns": null,
            "margin": null,
            "display": null,
            "left": null
          }
        },
        "00bb8e23a7b04b75a32a18b460acf6cb": {
          "model_module": "@jupyter-widgets/controls",
          "model_name": "DescriptionStyleModel",
          "state": {
            "_view_name": "StyleView",
            "_model_name": "DescriptionStyleModel",
            "description_width": "",
            "_view_module": "@jupyter-widgets/base",
            "_model_module_version": "1.5.0",
            "_view_count": null,
            "_view_module_version": "1.2.0",
            "_model_module": "@jupyter-widgets/controls"
          }
        },
        "35b23054e84848d68f36c01d2b83ceed": {
          "model_module": "@jupyter-widgets/base",
          "model_name": "LayoutModel",
          "state": {
            "_view_name": "LayoutView",
            "grid_template_rows": null,
            "right": null,
            "justify_content": null,
            "_view_module": "@jupyter-widgets/base",
            "overflow": null,
            "_model_module_version": "1.2.0",
            "_view_count": null,
            "flex_flow": null,
            "width": null,
            "min_width": null,
            "border": null,
            "align_items": null,
            "bottom": null,
            "_model_module": "@jupyter-widgets/base",
            "top": null,
            "grid_column": null,
            "overflow_y": null,
            "overflow_x": null,
            "grid_auto_flow": null,
            "grid_area": "widget005",
            "grid_template_columns": null,
            "flex": null,
            "_model_name": "LayoutModel",
            "justify_items": null,
            "grid_row": null,
            "max_height": null,
            "align_content": null,
            "visibility": null,
            "align_self": null,
            "height": null,
            "min_height": null,
            "padding": null,
            "grid_auto_rows": null,
            "grid_gap": null,
            "max_width": null,
            "order": null,
            "_view_module_version": "1.2.0",
            "grid_template_areas": null,
            "object_position": null,
            "object_fit": null,
            "grid_auto_columns": null,
            "margin": null,
            "display": null,
            "left": null
          }
        },
        "3db4062f00034c208939bc39df6ac3c4": {
          "model_module": "@jupyter-widgets/controls",
          "model_name": "DescriptionStyleModel",
          "state": {
            "_view_name": "StyleView",
            "_model_name": "DescriptionStyleModel",
            "description_width": "",
            "_view_module": "@jupyter-widgets/base",
            "_model_module_version": "1.5.0",
            "_view_count": null,
            "_view_module_version": "1.2.0",
            "_model_module": "@jupyter-widgets/controls"
          }
        },
        "7c60abf2742f48a78c23b869dde834df": {
          "model_module": "@jupyter-widgets/base",
          "model_name": "LayoutModel",
          "state": {
            "_view_name": "LayoutView",
            "grid_template_rows": null,
            "right": null,
            "justify_content": null,
            "_view_module": "@jupyter-widgets/base",
            "overflow": null,
            "_model_module_version": "1.2.0",
            "_view_count": null,
            "flex_flow": null,
            "width": null,
            "min_width": null,
            "border": null,
            "align_items": null,
            "bottom": null,
            "_model_module": "@jupyter-widgets/base",
            "top": null,
            "grid_column": null,
            "overflow_y": null,
            "overflow_x": null,
            "grid_auto_flow": null,
            "grid_area": "widget006",
            "grid_template_columns": null,
            "flex": null,
            "_model_name": "LayoutModel",
            "justify_items": null,
            "grid_row": null,
            "max_height": null,
            "align_content": null,
            "visibility": null,
            "align_self": null,
            "height": null,
            "min_height": null,
            "padding": null,
            "grid_auto_rows": null,
            "grid_gap": null,
            "max_width": null,
            "order": null,
            "_view_module_version": "1.2.0",
            "grid_template_areas": null,
            "object_position": null,
            "object_fit": null,
            "grid_auto_columns": null,
            "margin": null,
            "display": null,
            "left": null
          }
        },
        "2fe9c1889d454c54a8f711b29633657b": {
          "model_module": "@jupyter-widgets/controls",
          "model_name": "DescriptionStyleModel",
          "state": {
            "_view_name": "StyleView",
            "_model_name": "DescriptionStyleModel",
            "description_width": "",
            "_view_module": "@jupyter-widgets/base",
            "_model_module_version": "1.5.0",
            "_view_count": null,
            "_view_module_version": "1.2.0",
            "_model_module": "@jupyter-widgets/controls"
          }
        },
        "e650c017985e4acab2232473defa2592": {
          "model_module": "@jupyter-widgets/base",
          "model_name": "LayoutModel",
          "state": {
            "_view_name": "LayoutView",
            "grid_template_rows": null,
            "right": null,
            "justify_content": null,
            "_view_module": "@jupyter-widgets/base",
            "overflow": null,
            "_model_module_version": "1.2.0",
            "_view_count": null,
            "flex_flow": null,
            "width": null,
            "min_width": null,
            "border": null,
            "align_items": null,
            "bottom": null,
            "_model_module": "@jupyter-widgets/base",
            "top": null,
            "grid_column": null,
            "overflow_y": null,
            "overflow_x": null,
            "grid_auto_flow": null,
            "grid_area": "widget007",
            "grid_template_columns": null,
            "flex": null,
            "_model_name": "LayoutModel",
            "justify_items": null,
            "grid_row": null,
            "max_height": null,
            "align_content": null,
            "visibility": null,
            "align_self": null,
            "height": null,
            "min_height": null,
            "padding": null,
            "grid_auto_rows": null,
            "grid_gap": null,
            "max_width": null,
            "order": null,
            "_view_module_version": "1.2.0",
            "grid_template_areas": null,
            "object_position": null,
            "object_fit": null,
            "grid_auto_columns": null,
            "margin": null,
            "display": null,
            "left": null
          }
        },
        "bd1f052abd824112b5eceba8ba1190a0": {
          "model_module": "@jupyter-widgets/controls",
          "model_name": "DescriptionStyleModel",
          "state": {
            "_view_name": "StyleView",
            "_model_name": "DescriptionStyleModel",
            "description_width": "",
            "_view_module": "@jupyter-widgets/base",
            "_model_module_version": "1.5.0",
            "_view_count": null,
            "_view_module_version": "1.2.0",
            "_model_module": "@jupyter-widgets/controls"
          }
        },
        "a25bb83258ff4f53895ad85477801e3e": {
          "model_module": "@jupyter-widgets/base",
          "model_name": "LayoutModel",
          "state": {
            "_view_name": "LayoutView",
            "grid_template_rows": null,
            "right": null,
            "justify_content": null,
            "_view_module": "@jupyter-widgets/base",
            "overflow": null,
            "_model_module_version": "1.2.0",
            "_view_count": null,
            "flex_flow": null,
            "width": null,
            "min_width": null,
            "border": null,
            "align_items": null,
            "bottom": null,
            "_model_module": "@jupyter-widgets/base",
            "top": null,
            "grid_column": null,
            "overflow_y": null,
            "overflow_x": null,
            "grid_auto_flow": null,
            "grid_area": "widget008",
            "grid_template_columns": null,
            "flex": null,
            "_model_name": "LayoutModel",
            "justify_items": null,
            "grid_row": null,
            "max_height": null,
            "align_content": null,
            "visibility": null,
            "align_self": null,
            "height": null,
            "min_height": null,
            "padding": null,
            "grid_auto_rows": null,
            "grid_gap": null,
            "max_width": null,
            "order": null,
            "_view_module_version": "1.2.0",
            "grid_template_areas": null,
            "object_position": null,
            "object_fit": null,
            "grid_auto_columns": null,
            "margin": null,
            "display": null,
            "left": null
          }
        },
        "d3fbf3ed7b7a4b7aa1bf1ac979a1ddbd": {
          "model_module": "@jupyter-widgets/controls",
          "model_name": "DescriptionStyleModel",
          "state": {
            "_view_name": "StyleView",
            "_model_name": "DescriptionStyleModel",
            "description_width": "",
            "_view_module": "@jupyter-widgets/base",
            "_model_module_version": "1.5.0",
            "_view_count": null,
            "_view_module_version": "1.2.0",
            "_model_module": "@jupyter-widgets/controls"
          }
        },
        "82874dbb9b0e491b96deb15cd7f88d59": {
          "model_module": "@jupyter-widgets/base",
          "model_name": "LayoutModel",
          "state": {
            "_view_name": "LayoutView",
            "grid_template_rows": null,
            "right": null,
            "justify_content": null,
            "_view_module": "@jupyter-widgets/base",
            "overflow": null,
            "_model_module_version": "1.2.0",
            "_view_count": null,
            "flex_flow": null,
            "width": null,
            "min_width": null,
            "border": null,
            "align_items": null,
            "bottom": null,
            "_model_module": "@jupyter-widgets/base",
            "top": null,
            "grid_column": null,
            "overflow_y": null,
            "overflow_x": null,
            "grid_auto_flow": null,
            "grid_area": "widget009",
            "grid_template_columns": null,
            "flex": null,
            "_model_name": "LayoutModel",
            "justify_items": null,
            "grid_row": null,
            "max_height": null,
            "align_content": null,
            "visibility": null,
            "align_self": null,
            "height": null,
            "min_height": null,
            "padding": null,
            "grid_auto_rows": null,
            "grid_gap": null,
            "max_width": null,
            "order": null,
            "_view_module_version": "1.2.0",
            "grid_template_areas": null,
            "object_position": null,
            "object_fit": null,
            "grid_auto_columns": null,
            "margin": null,
            "display": null,
            "left": null
          }
        },
        "480c4380789043a4a8f3b32ad8ee95f4": {
          "model_module": "@jupyter-widgets/controls",
          "model_name": "DescriptionStyleModel",
          "state": {
            "_view_name": "StyleView",
            "_model_name": "DescriptionStyleModel",
            "description_width": "",
            "_view_module": "@jupyter-widgets/base",
            "_model_module_version": "1.5.0",
            "_view_count": null,
            "_view_module_version": "1.2.0",
            "_model_module": "@jupyter-widgets/controls"
          }
        },
        "2a7c115fa3154bb888803bf9a31e92f1": {
          "model_module": "@jupyter-widgets/base",
          "model_name": "LayoutModel",
          "state": {
            "_view_name": "LayoutView",
            "grid_template_rows": null,
            "right": null,
            "justify_content": null,
            "_view_module": "@jupyter-widgets/base",
            "overflow": null,
            "_model_module_version": "1.2.0",
            "_view_count": null,
            "flex_flow": null,
            "width": null,
            "min_width": null,
            "border": null,
            "align_items": null,
            "bottom": null,
            "_model_module": "@jupyter-widgets/base",
            "top": null,
            "grid_column": null,
            "overflow_y": null,
            "overflow_x": null,
            "grid_auto_flow": null,
            "grid_area": "widget010",
            "grid_template_columns": null,
            "flex": null,
            "_model_name": "LayoutModel",
            "justify_items": null,
            "grid_row": null,
            "max_height": null,
            "align_content": null,
            "visibility": null,
            "align_self": null,
            "height": null,
            "min_height": null,
            "padding": null,
            "grid_auto_rows": null,
            "grid_gap": null,
            "max_width": null,
            "order": null,
            "_view_module_version": "1.2.0",
            "grid_template_areas": null,
            "object_position": null,
            "object_fit": null,
            "grid_auto_columns": null,
            "margin": null,
            "display": null,
            "left": null
          }
        },
        "1d4ec012798b4ae0b1147b0f4283eb85": {
          "model_module": "@jupyter-widgets/controls",
          "model_name": "DescriptionStyleModel",
          "state": {
            "_view_name": "StyleView",
            "_model_name": "DescriptionStyleModel",
            "description_width": "",
            "_view_module": "@jupyter-widgets/base",
            "_model_module_version": "1.5.0",
            "_view_count": null,
            "_view_module_version": "1.2.0",
            "_model_module": "@jupyter-widgets/controls"
          }
        },
        "53684f7aa3fb41d19437f658ea50009d": {
          "model_module": "@jupyter-widgets/base",
          "model_name": "LayoutModel",
          "state": {
            "_view_name": "LayoutView",
            "grid_template_rows": null,
            "right": null,
            "justify_content": null,
            "_view_module": "@jupyter-widgets/base",
            "overflow": null,
            "_model_module_version": "1.2.0",
            "_view_count": null,
            "flex_flow": null,
            "width": null,
            "min_width": null,
            "border": null,
            "align_items": null,
            "bottom": null,
            "_model_module": "@jupyter-widgets/base",
            "top": null,
            "grid_column": null,
            "overflow_y": null,
            "overflow_x": null,
            "grid_auto_flow": null,
            "grid_area": "widget011",
            "grid_template_columns": null,
            "flex": null,
            "_model_name": "LayoutModel",
            "justify_items": null,
            "grid_row": null,
            "max_height": null,
            "align_content": null,
            "visibility": null,
            "align_self": null,
            "height": null,
            "min_height": null,
            "padding": null,
            "grid_auto_rows": null,
            "grid_gap": null,
            "max_width": null,
            "order": null,
            "_view_module_version": "1.2.0",
            "grid_template_areas": null,
            "object_position": null,
            "object_fit": null,
            "grid_auto_columns": null,
            "margin": null,
            "display": null,
            "left": null
          }
        },
        "50a4c5c4ab9049be907e86dae832b83e": {
          "model_module": "@jupyter-widgets/controls",
          "model_name": "DescriptionStyleModel",
          "state": {
            "_view_name": "StyleView",
            "_model_name": "DescriptionStyleModel",
            "description_width": "",
            "_view_module": "@jupyter-widgets/base",
            "_model_module_version": "1.5.0",
            "_view_count": null,
            "_view_module_version": "1.2.0",
            "_model_module": "@jupyter-widgets/controls"
          }
        },
        "fb9f33c2a9174e879d242afabf905d71": {
          "model_module": "@jupyter-widgets/base",
          "model_name": "LayoutModel",
          "state": {
            "_view_name": "LayoutView",
            "grid_template_rows": null,
            "right": null,
            "justify_content": null,
            "_view_module": "@jupyter-widgets/base",
            "overflow": null,
            "_model_module_version": "1.2.0",
            "_view_count": null,
            "flex_flow": null,
            "width": null,
            "min_width": null,
            "border": null,
            "align_items": null,
            "bottom": null,
            "_model_module": "@jupyter-widgets/base",
            "top": null,
            "grid_column": null,
            "overflow_y": null,
            "overflow_x": null,
            "grid_auto_flow": null,
            "grid_area": "widget012",
            "grid_template_columns": null,
            "flex": null,
            "_model_name": "LayoutModel",
            "justify_items": null,
            "grid_row": null,
            "max_height": null,
            "align_content": null,
            "visibility": null,
            "align_self": null,
            "height": null,
            "min_height": null,
            "padding": null,
            "grid_auto_rows": null,
            "grid_gap": null,
            "max_width": null,
            "order": null,
            "_view_module_version": "1.2.0",
            "grid_template_areas": null,
            "object_position": null,
            "object_fit": null,
            "grid_auto_columns": null,
            "margin": null,
            "display": null,
            "left": null
          }
        },
        "bed30217be3d45d9a64f66f979714139": {
          "model_module": "@jupyter-widgets/controls",
          "model_name": "DescriptionStyleModel",
          "state": {
            "_view_name": "StyleView",
            "_model_name": "DescriptionStyleModel",
            "description_width": "",
            "_view_module": "@jupyter-widgets/base",
            "_model_module_version": "1.5.0",
            "_view_count": null,
            "_view_module_version": "1.2.0",
            "_model_module": "@jupyter-widgets/controls"
          }
        },
        "f23d23fc53a54741966bf1bb3ea3ed52": {
          "model_module": "@jupyter-widgets/base",
          "model_name": "LayoutModel",
          "state": {
            "_view_name": "LayoutView",
            "grid_template_rows": null,
            "right": null,
            "justify_content": null,
            "_view_module": "@jupyter-widgets/base",
            "overflow": null,
            "_model_module_version": "1.2.0",
            "_view_count": null,
            "flex_flow": null,
            "width": null,
            "min_width": null,
            "border": null,
            "align_items": null,
            "bottom": null,
            "_model_module": "@jupyter-widgets/base",
            "top": null,
            "grid_column": null,
            "overflow_y": null,
            "overflow_x": null,
            "grid_auto_flow": null,
            "grid_area": "widget013",
            "grid_template_columns": null,
            "flex": null,
            "_model_name": "LayoutModel",
            "justify_items": null,
            "grid_row": null,
            "max_height": null,
            "align_content": null,
            "visibility": null,
            "align_self": null,
            "height": null,
            "min_height": null,
            "padding": null,
            "grid_auto_rows": null,
            "grid_gap": null,
            "max_width": null,
            "order": null,
            "_view_module_version": "1.2.0",
            "grid_template_areas": null,
            "object_position": null,
            "object_fit": null,
            "grid_auto_columns": null,
            "margin": null,
            "display": null,
            "left": null
          }
        },
        "3b2645f745ae4fdc830d71d68ecfa545": {
          "model_module": "@jupyter-widgets/controls",
          "model_name": "DescriptionStyleModel",
          "state": {
            "_view_name": "StyleView",
            "_model_name": "DescriptionStyleModel",
            "description_width": "",
            "_view_module": "@jupyter-widgets/base",
            "_model_module_version": "1.5.0",
            "_view_count": null,
            "_view_module_version": "1.2.0",
            "_model_module": "@jupyter-widgets/controls"
          }
        },
        "e4fedb6a3e33470b9600ca84bb62ad44": {
          "model_module": "@jupyter-widgets/base",
          "model_name": "LayoutModel",
          "state": {
            "_view_name": "LayoutView",
            "grid_template_rows": null,
            "right": null,
            "justify_content": null,
            "_view_module": "@jupyter-widgets/base",
            "overflow": null,
            "_model_module_version": "1.2.0",
            "_view_count": null,
            "flex_flow": null,
            "width": null,
            "min_width": null,
            "border": null,
            "align_items": null,
            "bottom": null,
            "_model_module": "@jupyter-widgets/base",
            "top": null,
            "grid_column": null,
            "overflow_y": null,
            "overflow_x": null,
            "grid_auto_flow": null,
            "grid_area": "widget014",
            "grid_template_columns": null,
            "flex": null,
            "_model_name": "LayoutModel",
            "justify_items": null,
            "grid_row": null,
            "max_height": null,
            "align_content": null,
            "visibility": null,
            "align_self": null,
            "height": null,
            "min_height": null,
            "padding": null,
            "grid_auto_rows": null,
            "grid_gap": null,
            "max_width": null,
            "order": null,
            "_view_module_version": "1.2.0",
            "grid_template_areas": null,
            "object_position": null,
            "object_fit": null,
            "grid_auto_columns": null,
            "margin": null,
            "display": null,
            "left": null
          }
        },
        "79f47b00537c4feba48c9a626d9b0325": {
          "model_module": "@jupyter-widgets/controls",
          "model_name": "DescriptionStyleModel",
          "state": {
            "_view_name": "StyleView",
            "_model_name": "DescriptionStyleModel",
            "description_width": "",
            "_view_module": "@jupyter-widgets/base",
            "_model_module_version": "1.5.0",
            "_view_count": null,
            "_view_module_version": "1.2.0",
            "_model_module": "@jupyter-widgets/controls"
          }
        },
        "929e2444460a45e69f6c6c02567d815f": {
          "model_module": "@jupyter-widgets/base",
          "model_name": "LayoutModel",
          "state": {
            "_view_name": "LayoutView",
            "grid_template_rows": null,
            "right": null,
            "justify_content": null,
            "_view_module": "@jupyter-widgets/base",
            "overflow": null,
            "_model_module_version": "1.2.0",
            "_view_count": null,
            "flex_flow": null,
            "width": null,
            "min_width": null,
            "border": null,
            "align_items": null,
            "bottom": null,
            "_model_module": "@jupyter-widgets/base",
            "top": null,
            "grid_column": null,
            "overflow_y": null,
            "overflow_x": null,
            "grid_auto_flow": null,
            "grid_area": "widget015",
            "grid_template_columns": null,
            "flex": null,
            "_model_name": "LayoutModel",
            "justify_items": null,
            "grid_row": null,
            "max_height": null,
            "align_content": null,
            "visibility": null,
            "align_self": null,
            "height": null,
            "min_height": null,
            "padding": null,
            "grid_auto_rows": null,
            "grid_gap": null,
            "max_width": null,
            "order": null,
            "_view_module_version": "1.2.0",
            "grid_template_areas": null,
            "object_position": null,
            "object_fit": null,
            "grid_auto_columns": null,
            "margin": null,
            "display": null,
            "left": null
          }
        },
        "665e2be1853743ea9cb60b81c538c7cd": {
          "model_module": "@jupyter-widgets/controls",
          "model_name": "DescriptionStyleModel",
          "state": {
            "_view_name": "StyleView",
            "_model_name": "DescriptionStyleModel",
            "description_width": "",
            "_view_module": "@jupyter-widgets/base",
            "_model_module_version": "1.5.0",
            "_view_count": null,
            "_view_module_version": "1.2.0",
            "_model_module": "@jupyter-widgets/controls"
          }
        },
        "0a74a306c88d4e1aa671dbaa12d35722": {
          "model_module": "@jupyter-widgets/base",
          "model_name": "LayoutModel",
          "state": {
            "_view_name": "LayoutView",
            "grid_template_rows": null,
            "right": null,
            "justify_content": null,
            "_view_module": "@jupyter-widgets/base",
            "overflow": null,
            "_model_module_version": "1.2.0",
            "_view_count": null,
            "flex_flow": null,
            "width": null,
            "min_width": null,
            "border": null,
            "align_items": null,
            "bottom": null,
            "_model_module": "@jupyter-widgets/base",
            "top": null,
            "grid_column": null,
            "overflow_y": null,
            "overflow_x": null,
            "grid_auto_flow": null,
            "grid_area": "widget016",
            "grid_template_columns": null,
            "flex": null,
            "_model_name": "LayoutModel",
            "justify_items": null,
            "grid_row": null,
            "max_height": null,
            "align_content": null,
            "visibility": null,
            "align_self": null,
            "height": null,
            "min_height": null,
            "padding": null,
            "grid_auto_rows": null,
            "grid_gap": null,
            "max_width": null,
            "order": null,
            "_view_module_version": "1.2.0",
            "grid_template_areas": null,
            "object_position": null,
            "object_fit": null,
            "grid_auto_columns": null,
            "margin": null,
            "display": null,
            "left": null
          }
        },
        "25808fe1523b4cb99e8ef6057147b898": {
          "model_module": "@jupyter-widgets/controls",
          "model_name": "DescriptionStyleModel",
          "state": {
            "_view_name": "StyleView",
            "_model_name": "DescriptionStyleModel",
            "description_width": "",
            "_view_module": "@jupyter-widgets/base",
            "_model_module_version": "1.5.0",
            "_view_count": null,
            "_view_module_version": "1.2.0",
            "_model_module": "@jupyter-widgets/controls"
          }
        },
        "e6a9a0ff623744b49221870553b127b5": {
          "model_module": "@jupyter-widgets/base",
          "model_name": "LayoutModel",
          "state": {
            "_view_name": "LayoutView",
            "grid_template_rows": null,
            "right": null,
            "justify_content": null,
            "_view_module": "@jupyter-widgets/base",
            "overflow": null,
            "_model_module_version": "1.2.0",
            "_view_count": null,
            "flex_flow": null,
            "width": null,
            "min_width": null,
            "border": null,
            "align_items": null,
            "bottom": null,
            "_model_module": "@jupyter-widgets/base",
            "top": null,
            "grid_column": null,
            "overflow_y": null,
            "overflow_x": null,
            "grid_auto_flow": null,
            "grid_area": "widget017",
            "grid_template_columns": null,
            "flex": null,
            "_model_name": "LayoutModel",
            "justify_items": null,
            "grid_row": null,
            "max_height": null,
            "align_content": null,
            "visibility": null,
            "align_self": null,
            "height": null,
            "min_height": null,
            "padding": null,
            "grid_auto_rows": null,
            "grid_gap": null,
            "max_width": null,
            "order": null,
            "_view_module_version": "1.2.0",
            "grid_template_areas": null,
            "object_position": null,
            "object_fit": null,
            "grid_auto_columns": null,
            "margin": null,
            "display": null,
            "left": null
          }
        },
        "d06667248b1149ce852b830e815f0252": {
          "model_module": "@jupyter-widgets/controls",
          "model_name": "DescriptionStyleModel",
          "state": {
            "_view_name": "StyleView",
            "_model_name": "DescriptionStyleModel",
            "description_width": "",
            "_view_module": "@jupyter-widgets/base",
            "_model_module_version": "1.5.0",
            "_view_count": null,
            "_view_module_version": "1.2.0",
            "_model_module": "@jupyter-widgets/controls"
          }
        },
        "552bb884de134f6f8ced0b84f0d9af1a": {
          "model_module": "@jupyter-widgets/base",
          "model_name": "LayoutModel",
          "state": {
            "_view_name": "LayoutView",
            "grid_template_rows": null,
            "right": null,
            "justify_content": null,
            "_view_module": "@jupyter-widgets/base",
            "overflow": null,
            "_model_module_version": "1.2.0",
            "_view_count": null,
            "flex_flow": null,
            "width": null,
            "min_width": null,
            "border": null,
            "align_items": null,
            "bottom": null,
            "_model_module": "@jupyter-widgets/base",
            "top": null,
            "grid_column": null,
            "overflow_y": null,
            "overflow_x": null,
            "grid_auto_flow": null,
            "grid_area": "widget018",
            "grid_template_columns": null,
            "flex": null,
            "_model_name": "LayoutModel",
            "justify_items": null,
            "grid_row": null,
            "max_height": null,
            "align_content": null,
            "visibility": null,
            "align_self": null,
            "height": null,
            "min_height": null,
            "padding": null,
            "grid_auto_rows": null,
            "grid_gap": null,
            "max_width": null,
            "order": null,
            "_view_module_version": "1.2.0",
            "grid_template_areas": null,
            "object_position": null,
            "object_fit": null,
            "grid_auto_columns": null,
            "margin": null,
            "display": null,
            "left": null
          }
        },
        "95848e99e37845b7984ef8318f9a2dda": {
          "model_module": "@jupyter-widgets/controls",
          "model_name": "DescriptionStyleModel",
          "state": {
            "_view_name": "StyleView",
            "_model_name": "DescriptionStyleModel",
            "description_width": "",
            "_view_module": "@jupyter-widgets/base",
            "_model_module_version": "1.5.0",
            "_view_count": null,
            "_view_module_version": "1.2.0",
            "_model_module": "@jupyter-widgets/controls"
          }
        },
        "cf593397a5df4edeb9184a592658a6b0": {
          "model_module": "@jupyter-widgets/base",
          "model_name": "LayoutModel",
          "state": {
            "_view_name": "LayoutView",
            "grid_template_rows": null,
            "right": null,
            "justify_content": null,
            "_view_module": "@jupyter-widgets/base",
            "overflow": null,
            "_model_module_version": "1.2.0",
            "_view_count": null,
            "flex_flow": null,
            "width": null,
            "min_width": null,
            "border": null,
            "align_items": null,
            "bottom": null,
            "_model_module": "@jupyter-widgets/base",
            "top": null,
            "grid_column": null,
            "overflow_y": null,
            "overflow_x": null,
            "grid_auto_flow": null,
            "grid_area": "widget019",
            "grid_template_columns": null,
            "flex": null,
            "_model_name": "LayoutModel",
            "justify_items": null,
            "grid_row": null,
            "max_height": null,
            "align_content": null,
            "visibility": null,
            "align_self": null,
            "height": null,
            "min_height": null,
            "padding": null,
            "grid_auto_rows": null,
            "grid_gap": null,
            "max_width": null,
            "order": null,
            "_view_module_version": "1.2.0",
            "grid_template_areas": null,
            "object_position": null,
            "object_fit": null,
            "grid_auto_columns": null,
            "margin": null,
            "display": null,
            "left": null
          }
        },
        "79378ed7454540c093421141e0e8ca13": {
          "model_module": "@jupyter-widgets/controls",
          "model_name": "DescriptionStyleModel",
          "state": {
            "_view_name": "StyleView",
            "_model_name": "DescriptionStyleModel",
            "description_width": "",
            "_view_module": "@jupyter-widgets/base",
            "_model_module_version": "1.5.0",
            "_view_count": null,
            "_view_module_version": "1.2.0",
            "_model_module": "@jupyter-widgets/controls"
          }
        },
        "d3ef2b76064f40ae8b9b57945d73fa66": {
          "model_module": "@jupyter-widgets/base",
          "model_name": "LayoutModel",
          "state": {
            "_view_name": "LayoutView",
            "grid_template_rows": null,
            "right": null,
            "justify_content": null,
            "_view_module": "@jupyter-widgets/base",
            "overflow": null,
            "_model_module_version": "1.2.0",
            "_view_count": null,
            "flex_flow": null,
            "width": null,
            "min_width": null,
            "border": null,
            "align_items": null,
            "bottom": null,
            "_model_module": "@jupyter-widgets/base",
            "top": null,
            "grid_column": null,
            "overflow_y": null,
            "overflow_x": null,
            "grid_auto_flow": null,
            "grid_area": "widget020",
            "grid_template_columns": null,
            "flex": null,
            "_model_name": "LayoutModel",
            "justify_items": null,
            "grid_row": null,
            "max_height": null,
            "align_content": null,
            "visibility": null,
            "align_self": null,
            "height": null,
            "min_height": null,
            "padding": null,
            "grid_auto_rows": null,
            "grid_gap": null,
            "max_width": null,
            "order": null,
            "_view_module_version": "1.2.0",
            "grid_template_areas": null,
            "object_position": null,
            "object_fit": null,
            "grid_auto_columns": null,
            "margin": null,
            "display": null,
            "left": null
          }
        },
        "10a4af5699484d4b80718487f66a8c08": {
          "model_module": "@jupyter-widgets/controls",
          "model_name": "DescriptionStyleModel",
          "state": {
            "_view_name": "StyleView",
            "_model_name": "DescriptionStyleModel",
            "description_width": "20px",
            "_view_module": "@jupyter-widgets/base",
            "_model_module_version": "1.5.0",
            "_view_count": null,
            "_view_module_version": "1.2.0",
            "_model_module": "@jupyter-widgets/controls"
          }
        },
        "1244e620f8164d4e972f62c2eb13f9a5": {
          "model_module": "@jupyter-widgets/base",
          "model_name": "LayoutModel",
          "state": {
            "_view_name": "LayoutView",
            "grid_template_rows": null,
            "right": null,
            "justify_content": null,
            "_view_module": "@jupyter-widgets/base",
            "overflow": null,
            "_model_module_version": "1.2.0",
            "_view_count": null,
            "flex_flow": null,
            "width": null,
            "min_width": null,
            "border": null,
            "align_items": null,
            "bottom": null,
            "_model_module": "@jupyter-widgets/base",
            "top": null,
            "grid_column": null,
            "overflow_y": null,
            "overflow_x": null,
            "grid_auto_flow": null,
            "grid_area": null,
            "grid_template_columns": null,
            "flex": null,
            "_model_name": "LayoutModel",
            "justify_items": null,
            "grid_row": null,
            "max_height": null,
            "align_content": null,
            "visibility": null,
            "align_self": null,
            "height": null,
            "min_height": null,
            "padding": null,
            "grid_auto_rows": null,
            "grid_gap": null,
            "max_width": null,
            "order": null,
            "_view_module_version": "1.2.0",
            "grid_template_areas": null,
            "object_position": null,
            "object_fit": null,
            "grid_auto_columns": null,
            "margin": null,
            "display": null,
            "left": null
          }
        },
        "7f6177763dea4746a61ff4a40e039571": {
          "model_module": "@jupyter-widgets/controls",
          "model_name": "DescriptionStyleModel",
          "state": {
            "_view_name": "StyleView",
            "_model_name": "DescriptionStyleModel",
            "description_width": "20px",
            "_view_module": "@jupyter-widgets/base",
            "_model_module_version": "1.5.0",
            "_view_count": null,
            "_view_module_version": "1.2.0",
            "_model_module": "@jupyter-widgets/controls"
          }
        },
        "4d9a046a0f0c48a28780ec70720c402b": {
          "model_module": "@jupyter-widgets/base",
          "model_name": "LayoutModel",
          "state": {
            "_view_name": "LayoutView",
            "grid_template_rows": null,
            "right": null,
            "justify_content": null,
            "_view_module": "@jupyter-widgets/base",
            "overflow": null,
            "_model_module_version": "1.2.0",
            "_view_count": null,
            "flex_flow": null,
            "width": null,
            "min_width": null,
            "border": null,
            "align_items": null,
            "bottom": null,
            "_model_module": "@jupyter-widgets/base",
            "top": null,
            "grid_column": null,
            "overflow_y": null,
            "overflow_x": null,
            "grid_auto_flow": null,
            "grid_area": null,
            "grid_template_columns": null,
            "flex": null,
            "_model_name": "LayoutModel",
            "justify_items": null,
            "grid_row": null,
            "max_height": null,
            "align_content": null,
            "visibility": null,
            "align_self": null,
            "height": null,
            "min_height": null,
            "padding": null,
            "grid_auto_rows": null,
            "grid_gap": null,
            "max_width": null,
            "order": null,
            "_view_module_version": "1.2.0",
            "grid_template_areas": null,
            "object_position": null,
            "object_fit": null,
            "grid_auto_columns": null,
            "margin": null,
            "display": null,
            "left": null
          }
        },
        "d73c873991d64195910e3707cdd1a6de": {
          "model_module": "@jupyter-widgets/controls",
          "model_name": "DescriptionStyleModel",
          "state": {
            "_view_name": "StyleView",
            "_model_name": "DescriptionStyleModel",
            "description_width": "40px",
            "_view_module": "@jupyter-widgets/base",
            "_model_module_version": "1.5.0",
            "_view_count": null,
            "_view_module_version": "1.2.0",
            "_model_module": "@jupyter-widgets/controls"
          }
        },
        "14a91e0c88a44f0eb1f47b8c465ac19a": {
          "model_module": "@jupyter-widgets/base",
          "model_name": "LayoutModel",
          "state": {
            "_view_name": "LayoutView",
            "grid_template_rows": null,
            "right": null,
            "justify_content": null,
            "_view_module": "@jupyter-widgets/base",
            "overflow": null,
            "_model_module_version": "1.2.0",
            "_view_count": null,
            "flex_flow": null,
            "width": null,
            "min_width": null,
            "border": null,
            "align_items": null,
            "bottom": null,
            "_model_module": "@jupyter-widgets/base",
            "top": null,
            "grid_column": null,
            "overflow_y": null,
            "overflow_x": null,
            "grid_auto_flow": null,
            "grid_area": null,
            "grid_template_columns": null,
            "flex": null,
            "_model_name": "LayoutModel",
            "justify_items": null,
            "grid_row": null,
            "max_height": null,
            "align_content": null,
            "visibility": null,
            "align_self": null,
            "height": null,
            "min_height": null,
            "padding": null,
            "grid_auto_rows": null,
            "grid_gap": null,
            "max_width": null,
            "order": null,
            "_view_module_version": "1.2.0",
            "grid_template_areas": null,
            "object_position": null,
            "object_fit": null,
            "grid_auto_columns": null,
            "margin": null,
            "display": null,
            "left": null
          }
        },
        "220dce51678e4522bfb77146f638c4c9": {
          "model_module": "@jupyter-widgets/controls",
          "model_name": "DescriptionStyleModel",
          "state": {
            "_view_name": "StyleView",
            "_model_name": "DescriptionStyleModel",
            "description_width": "",
            "_view_module": "@jupyter-widgets/base",
            "_model_module_version": "1.5.0",
            "_view_count": null,
            "_view_module_version": "1.2.0",
            "_model_module": "@jupyter-widgets/controls"
          }
        },
        "3b6f88888ff94033804417ca0ed862b6": {
          "model_module": "@jupyter-widgets/base",
          "model_name": "LayoutModel",
          "state": {
            "_view_name": "LayoutView",
            "grid_template_rows": null,
            "right": null,
            "justify_content": null,
            "_view_module": "@jupyter-widgets/base",
            "overflow": null,
            "_model_module_version": "1.2.0",
            "_view_count": null,
            "flex_flow": null,
            "width": null,
            "min_width": null,
            "border": null,
            "align_items": null,
            "bottom": null,
            "_model_module": "@jupyter-widgets/base",
            "top": null,
            "grid_column": null,
            "overflow_y": null,
            "overflow_x": null,
            "grid_auto_flow": null,
            "grid_area": null,
            "grid_template_columns": null,
            "flex": null,
            "_model_name": "LayoutModel",
            "justify_items": null,
            "grid_row": null,
            "max_height": null,
            "align_content": null,
            "visibility": null,
            "align_self": null,
            "height": null,
            "min_height": null,
            "padding": null,
            "grid_auto_rows": null,
            "grid_gap": null,
            "max_width": null,
            "order": null,
            "_view_module_version": "1.2.0",
            "grid_template_areas": null,
            "object_position": null,
            "object_fit": null,
            "grid_auto_columns": null,
            "margin": null,
            "display": null,
            "left": null
          }
        },
        "024929c43d384737815bf01cb8294ad1": {
          "model_module": "@jupyter-widgets/controls",
          "model_name": "DescriptionStyleModel",
          "state": {
            "_view_name": "StyleView",
            "_model_name": "DescriptionStyleModel",
            "description_width": "",
            "_view_module": "@jupyter-widgets/base",
            "_model_module_version": "1.5.0",
            "_view_count": null,
            "_view_module_version": "1.2.0",
            "_model_module": "@jupyter-widgets/controls"
          }
        },
        "876e113dd6f84984b71c130b1af9f336": {
          "model_module": "@jupyter-widgets/base",
          "model_name": "LayoutModel",
          "state": {
            "_view_name": "LayoutView",
            "grid_template_rows": null,
            "right": null,
            "justify_content": null,
            "_view_module": "@jupyter-widgets/base",
            "overflow": null,
            "_model_module_version": "1.2.0",
            "_view_count": null,
            "flex_flow": null,
            "width": null,
            "min_width": null,
            "border": null,
            "align_items": null,
            "bottom": null,
            "_model_module": "@jupyter-widgets/base",
            "top": null,
            "grid_column": null,
            "overflow_y": null,
            "overflow_x": null,
            "grid_auto_flow": null,
            "grid_area": null,
            "grid_template_columns": null,
            "flex": null,
            "_model_name": "LayoutModel",
            "justify_items": null,
            "grid_row": null,
            "max_height": null,
            "align_content": null,
            "visibility": null,
            "align_self": null,
            "height": null,
            "min_height": null,
            "padding": null,
            "grid_auto_rows": null,
            "grid_gap": null,
            "max_width": null,
            "order": null,
            "_view_module_version": "1.2.0",
            "grid_template_areas": null,
            "object_position": null,
            "object_fit": null,
            "grid_auto_columns": null,
            "margin": null,
            "display": null,
            "left": null
          }
        },
        "a7a6d2686600428787fdfcb37527d3e7": {
          "model_module": "@jupyter-widgets/controls",
          "model_name": "DescriptionStyleModel",
          "state": {
            "_view_name": "StyleView",
            "_model_name": "DescriptionStyleModel",
            "description_width": "20px",
            "_view_module": "@jupyter-widgets/base",
            "_model_module_version": "1.5.0",
            "_view_count": null,
            "_view_module_version": "1.2.0",
            "_model_module": "@jupyter-widgets/controls"
          }
        },
        "67da965136964400a4bcea7bd3db72dd": {
          "model_module": "@jupyter-widgets/base",
          "model_name": "LayoutModel",
          "state": {
            "_view_name": "LayoutView",
            "grid_template_rows": null,
            "right": null,
            "justify_content": null,
            "_view_module": "@jupyter-widgets/base",
            "overflow": null,
            "_model_module_version": "1.2.0",
            "_view_count": null,
            "flex_flow": null,
            "width": null,
            "min_width": null,
            "border": null,
            "align_items": null,
            "bottom": null,
            "_model_module": "@jupyter-widgets/base",
            "top": null,
            "grid_column": null,
            "overflow_y": null,
            "overflow_x": null,
            "grid_auto_flow": null,
            "grid_area": null,
            "grid_template_columns": null,
            "flex": null,
            "_model_name": "LayoutModel",
            "justify_items": null,
            "grid_row": null,
            "max_height": null,
            "align_content": null,
            "visibility": null,
            "align_self": null,
            "height": null,
            "min_height": null,
            "padding": null,
            "grid_auto_rows": null,
            "grid_gap": null,
            "max_width": null,
            "order": null,
            "_view_module_version": "1.2.0",
            "grid_template_areas": null,
            "object_position": null,
            "object_fit": null,
            "grid_auto_columns": null,
            "margin": null,
            "display": null,
            "left": null
          }
        },
        "25113bedaac34554b6affa51ef63493c": {
          "model_module": "@jupyter-widgets/controls",
          "model_name": "DescriptionStyleModel",
          "state": {
            "_view_name": "StyleView",
            "_model_name": "DescriptionStyleModel",
            "description_width": "20px",
            "_view_module": "@jupyter-widgets/base",
            "_model_module_version": "1.5.0",
            "_view_count": null,
            "_view_module_version": "1.2.0",
            "_model_module": "@jupyter-widgets/controls"
          }
        },
        "ac4cfb6490474f66a9bb51a8678b5e9a": {
          "model_module": "@jupyter-widgets/base",
          "model_name": "LayoutModel",
          "state": {
            "_view_name": "LayoutView",
            "grid_template_rows": null,
            "right": null,
            "justify_content": null,
            "_view_module": "@jupyter-widgets/base",
            "overflow": null,
            "_model_module_version": "1.2.0",
            "_view_count": null,
            "flex_flow": null,
            "width": null,
            "min_width": null,
            "border": null,
            "align_items": null,
            "bottom": null,
            "_model_module": "@jupyter-widgets/base",
            "top": null,
            "grid_column": null,
            "overflow_y": null,
            "overflow_x": null,
            "grid_auto_flow": null,
            "grid_area": null,
            "grid_template_columns": null,
            "flex": null,
            "_model_name": "LayoutModel",
            "justify_items": null,
            "grid_row": null,
            "max_height": null,
            "align_content": null,
            "visibility": null,
            "align_self": null,
            "height": null,
            "min_height": null,
            "padding": null,
            "grid_auto_rows": null,
            "grid_gap": null,
            "max_width": null,
            "order": null,
            "_view_module_version": "1.2.0",
            "grid_template_areas": null,
            "object_position": null,
            "object_fit": null,
            "grid_auto_columns": null,
            "margin": null,
            "display": null,
            "left": null
          }
        },
        "6b78dff83044467a8c3909be79dc009f": {
          "model_module": "@jupyter-widgets/controls",
          "model_name": "DescriptionStyleModel",
          "state": {
            "_view_name": "StyleView",
            "_model_name": "DescriptionStyleModel",
            "description_width": "40px",
            "_view_module": "@jupyter-widgets/base",
            "_model_module_version": "1.5.0",
            "_view_count": null,
            "_view_module_version": "1.2.0",
            "_model_module": "@jupyter-widgets/controls"
          }
        },
        "73f1c78977b149c98451c8a8eb425ec2": {
          "model_module": "@jupyter-widgets/base",
          "model_name": "LayoutModel",
          "state": {
            "_view_name": "LayoutView",
            "grid_template_rows": null,
            "right": null,
            "justify_content": null,
            "_view_module": "@jupyter-widgets/base",
            "overflow": null,
            "_model_module_version": "1.2.0",
            "_view_count": null,
            "flex_flow": null,
            "width": null,
            "min_width": null,
            "border": null,
            "align_items": null,
            "bottom": null,
            "_model_module": "@jupyter-widgets/base",
            "top": null,
            "grid_column": null,
            "overflow_y": null,
            "overflow_x": null,
            "grid_auto_flow": null,
            "grid_area": null,
            "grid_template_columns": null,
            "flex": null,
            "_model_name": "LayoutModel",
            "justify_items": null,
            "grid_row": null,
            "max_height": null,
            "align_content": null,
            "visibility": null,
            "align_self": null,
            "height": null,
            "min_height": null,
            "padding": null,
            "grid_auto_rows": null,
            "grid_gap": null,
            "max_width": null,
            "order": null,
            "_view_module_version": "1.2.0",
            "grid_template_areas": null,
            "object_position": null,
            "object_fit": null,
            "grid_auto_columns": null,
            "margin": null,
            "display": null,
            "left": null
          }
        }
      }
    }
  },
  "cells": [
    {
      "cell_type": "markdown",
      "metadata": {
        "id": "view-in-github",
        "colab_type": "text"
      },
      "source": [
        "<a href=\"https://colab.research.google.com/github/Prashant5ingh/Airline-Management-System/blob/master/Decision_Tree_Spark.ipynb\" target=\"_parent\"><img src=\"https://colab.research.google.com/assets/colab-badge.svg\" alt=\"Open In Colab\"/></a>"
      ]
    },
    {
      "cell_type": "markdown",
      "metadata": {
        "id": "yvwVtSwe48Ja"
      },
      "source": [
        "# **TASK 6**\n"
      ]
    },
    {
      "cell_type": "markdown",
      "metadata": {
        "id": "Sq56SILg5t5I"
      },
      "source": [
        "Create the Decision Tree classifier and visualize it graphically.\n",
        "\n",
        "The purpose of task 6 is that if we feed any new data to this classifier, it would be able to predict the right class accordingly."
      ]
    },
    {
      "cell_type": "markdown",
      "metadata": {
        "id": "1JfWGT1T6rd7"
      },
      "source": [
        "# **Prashant Singh**"
      ]
    },
    {
      "cell_type": "code",
      "metadata": {
        "colab": {
          "base_uri": "https://localhost:8080/"
        },
        "id": "g57bu5UCwuC4",
        "outputId": "4200995f-7e90-4dd9-9da9-482ef06d6df4"
      },
      "source": [
        "#Connecting drive with google colab\n",
        "from google.colab import drive\n",
        "drive.mount('/gdrive')\n",
        "%cd /gdrive\n"
      ],
      "execution_count": 3,
      "outputs": [
        {
          "output_type": "stream",
          "text": [
            "Mounted at /gdrive\n",
            "/gdrive\n"
          ],
          "name": "stdout"
        }
      ]
    },
    {
      "cell_type": "code",
      "metadata": {
        "colab": {
          "base_uri": "https://localhost:8080/"
        },
        "id": "hQIH7ga_xd_p",
        "outputId": "373beac9-30e9-42b6-c9de-816fb6229c0a"
      },
      "source": [
        "#Import the dataset folder in drive\n",
        "cd /gdrive/My Drive/Colab Notebooks/Decision Tree"
      ],
      "execution_count": 4,
      "outputs": [
        {
          "output_type": "stream",
          "text": [
            "/gdrive/My Drive/Colab Notebooks/Decision Tree\n"
          ],
          "name": "stdout"
        }
      ]
    },
    {
      "cell_type": "code",
      "metadata": {
        "colab": {
          "base_uri": "https://localhost:8080/"
        },
        "id": "RDBnLhK4yI9h",
        "outputId": "2f350bfa-54c8-4d04-b14d-4abf7c2993ef"
      },
      "source": [
        "ls\n"
      ],
      "execution_count": 5,
      "outputs": [
        {
          "output_type": "stream",
          "text": [
            "Iris.csv\n"
          ],
          "name": "stdout"
        }
      ]
    },
    {
      "cell_type": "markdown",
      "metadata": {
        "id": "gTSC2shB7Kyx"
      },
      "source": [
        "**Importing libraries in Python**"
      ]
    },
    {
      "cell_type": "code",
      "metadata": {
        "id": "jGy4o-CZyRrM"
      },
      "source": [
        "import numpy as np\n",
        "import pandas as pd\n",
        "import matplotlib.pyplot as plt\n",
        "from sklearn.model_selection import train_test_split\n",
        "from sklearn.tree import DecisionTreeClassifier\n",
        "import sklearn.datasets as datasets"
      ],
      "execution_count": 11,
      "outputs": []
    },
    {
      "cell_type": "code",
      "metadata": {
        "colab": {
          "base_uri": "https://localhost:8080/",
          "height": 198
        },
        "id": "9lumWvJEygqj",
        "outputId": "daca1ff0-c4d6-4da3-d6aa-cce08a2a236b"
      },
      "source": [
        "#Load Data\n",
        "df = pd.read_csv('Iris.csv')\n",
        "df['Species_label'], _ = pd.factorize(df['Species'])\n",
        "df.head()"
      ],
      "execution_count": 7,
      "outputs": [
        {
          "output_type": "execute_result",
          "data": {
            "text/html": [
              "<div>\n",
              "<style scoped>\n",
              "    .dataframe tbody tr th:only-of-type {\n",
              "        vertical-align: middle;\n",
              "    }\n",
              "\n",
              "    .dataframe tbody tr th {\n",
              "        vertical-align: top;\n",
              "    }\n",
              "\n",
              "    .dataframe thead th {\n",
              "        text-align: right;\n",
              "    }\n",
              "</style>\n",
              "<table border=\"1\" class=\"dataframe\">\n",
              "  <thead>\n",
              "    <tr style=\"text-align: right;\">\n",
              "      <th></th>\n",
              "      <th>Id</th>\n",
              "      <th>SepalLengthCm</th>\n",
              "      <th>SepalWidthCm</th>\n",
              "      <th>PetalLengthCm</th>\n",
              "      <th>PetalWidthCm</th>\n",
              "      <th>Species</th>\n",
              "      <th>Species_label</th>\n",
              "    </tr>\n",
              "  </thead>\n",
              "  <tbody>\n",
              "    <tr>\n",
              "      <th>0</th>\n",
              "      <td>1</td>\n",
              "      <td>5.1</td>\n",
              "      <td>3.5</td>\n",
              "      <td>1.4</td>\n",
              "      <td>0.2</td>\n",
              "      <td>Iris-setosa</td>\n",
              "      <td>0</td>\n",
              "    </tr>\n",
              "    <tr>\n",
              "      <th>1</th>\n",
              "      <td>2</td>\n",
              "      <td>4.9</td>\n",
              "      <td>3.0</td>\n",
              "      <td>1.4</td>\n",
              "      <td>0.2</td>\n",
              "      <td>Iris-setosa</td>\n",
              "      <td>0</td>\n",
              "    </tr>\n",
              "    <tr>\n",
              "      <th>2</th>\n",
              "      <td>3</td>\n",
              "      <td>4.7</td>\n",
              "      <td>3.2</td>\n",
              "      <td>1.3</td>\n",
              "      <td>0.2</td>\n",
              "      <td>Iris-setosa</td>\n",
              "      <td>0</td>\n",
              "    </tr>\n",
              "    <tr>\n",
              "      <th>3</th>\n",
              "      <td>4</td>\n",
              "      <td>4.6</td>\n",
              "      <td>3.1</td>\n",
              "      <td>1.5</td>\n",
              "      <td>0.2</td>\n",
              "      <td>Iris-setosa</td>\n",
              "      <td>0</td>\n",
              "    </tr>\n",
              "    <tr>\n",
              "      <th>4</th>\n",
              "      <td>5</td>\n",
              "      <td>5.0</td>\n",
              "      <td>3.6</td>\n",
              "      <td>1.4</td>\n",
              "      <td>0.2</td>\n",
              "      <td>Iris-setosa</td>\n",
              "      <td>0</td>\n",
              "    </tr>\n",
              "  </tbody>\n",
              "</table>\n",
              "</div>"
            ],
            "text/plain": [
              "   Id  SepalLengthCm  SepalWidthCm  ...  PetalWidthCm      Species Species_label\n",
              "0   1            5.1           3.5  ...           0.2  Iris-setosa             0\n",
              "1   2            4.9           3.0  ...           0.2  Iris-setosa             0\n",
              "2   3            4.7           3.2  ...           0.2  Iris-setosa             0\n",
              "3   4            4.6           3.1  ...           0.2  Iris-setosa             0\n",
              "4   5            5.0           3.6  ...           0.2  Iris-setosa             0\n",
              "\n",
              "[5 rows x 7 columns]"
            ]
          },
          "metadata": {
            "tags": []
          },
          "execution_count": 7
        }
      ]
    },
    {
      "cell_type": "code",
      "metadata": {
        "colab": {
          "base_uri": "https://localhost:8080/"
        },
        "id": "W8NJ7B5S20q7",
        "outputId": "ecc80c07-a63f-427e-ba4d-f276775ef0c3"
      },
      "source": [
        "iris=datasets.load_iris()\n",
        "y=iris.target\n",
        "print(y)"
      ],
      "execution_count": 12,
      "outputs": [
        {
          "output_type": "stream",
          "text": [
            "[0 0 0 0 0 0 0 0 0 0 0 0 0 0 0 0 0 0 0 0 0 0 0 0 0 0 0 0 0 0 0 0 0 0 0 0 0\n",
            " 0 0 0 0 0 0 0 0 0 0 0 0 0 1 1 1 1 1 1 1 1 1 1 1 1 1 1 1 1 1 1 1 1 1 1 1 1\n",
            " 1 1 1 1 1 1 1 1 1 1 1 1 1 1 1 1 1 1 1 1 1 1 1 1 1 1 2 2 2 2 2 2 2 2 2 2 2\n",
            " 2 2 2 2 2 2 2 2 2 2 2 2 2 2 2 2 2 2 2 2 2 2 2 2 2 2 2 2 2 2 2 2 2 2 2 2 2\n",
            " 2 2]\n"
          ],
          "name": "stdout"
        }
      ]
    },
    {
      "cell_type": "code",
      "metadata": {
        "colab": {
          "base_uri": "https://localhost:8080/",
          "height": 228
        },
        "id": "xPNXN6TgzGu_",
        "outputId": "a042a14f-5f10-434d-b681-32b7b6918ccb"
      },
      "source": [
        "df.describe().T #proper distributed data"
      ],
      "execution_count": null,
      "outputs": [
        {
          "output_type": "execute_result",
          "data": {
            "text/html": [
              "<div>\n",
              "<style scoped>\n",
              "    .dataframe tbody tr th:only-of-type {\n",
              "        vertical-align: middle;\n",
              "    }\n",
              "\n",
              "    .dataframe tbody tr th {\n",
              "        vertical-align: top;\n",
              "    }\n",
              "\n",
              "    .dataframe thead th {\n",
              "        text-align: right;\n",
              "    }\n",
              "</style>\n",
              "<table border=\"1\" class=\"dataframe\">\n",
              "  <thead>\n",
              "    <tr style=\"text-align: right;\">\n",
              "      <th></th>\n",
              "      <th>count</th>\n",
              "      <th>mean</th>\n",
              "      <th>std</th>\n",
              "      <th>min</th>\n",
              "      <th>25%</th>\n",
              "      <th>50%</th>\n",
              "      <th>75%</th>\n",
              "      <th>max</th>\n",
              "    </tr>\n",
              "  </thead>\n",
              "  <tbody>\n",
              "    <tr>\n",
              "      <th>Id</th>\n",
              "      <td>150.0</td>\n",
              "      <td>75.500000</td>\n",
              "      <td>43.445368</td>\n",
              "      <td>1.0</td>\n",
              "      <td>38.25</td>\n",
              "      <td>75.50</td>\n",
              "      <td>112.75</td>\n",
              "      <td>150.0</td>\n",
              "    </tr>\n",
              "    <tr>\n",
              "      <th>SepalLengthCm</th>\n",
              "      <td>150.0</td>\n",
              "      <td>5.843333</td>\n",
              "      <td>0.828066</td>\n",
              "      <td>4.3</td>\n",
              "      <td>5.10</td>\n",
              "      <td>5.80</td>\n",
              "      <td>6.40</td>\n",
              "      <td>7.9</td>\n",
              "    </tr>\n",
              "    <tr>\n",
              "      <th>SepalWidthCm</th>\n",
              "      <td>150.0</td>\n",
              "      <td>3.054000</td>\n",
              "      <td>0.433594</td>\n",
              "      <td>2.0</td>\n",
              "      <td>2.80</td>\n",
              "      <td>3.00</td>\n",
              "      <td>3.30</td>\n",
              "      <td>4.4</td>\n",
              "    </tr>\n",
              "    <tr>\n",
              "      <th>PetalLengthCm</th>\n",
              "      <td>150.0</td>\n",
              "      <td>3.758667</td>\n",
              "      <td>1.764420</td>\n",
              "      <td>1.0</td>\n",
              "      <td>1.60</td>\n",
              "      <td>4.35</td>\n",
              "      <td>5.10</td>\n",
              "      <td>6.9</td>\n",
              "    </tr>\n",
              "    <tr>\n",
              "      <th>PetalWidthCm</th>\n",
              "      <td>150.0</td>\n",
              "      <td>1.198667</td>\n",
              "      <td>0.763161</td>\n",
              "      <td>0.1</td>\n",
              "      <td>0.30</td>\n",
              "      <td>1.30</td>\n",
              "      <td>1.80</td>\n",
              "      <td>2.5</td>\n",
              "    </tr>\n",
              "    <tr>\n",
              "      <th>Species_label</th>\n",
              "      <td>150.0</td>\n",
              "      <td>1.000000</td>\n",
              "      <td>0.819232</td>\n",
              "      <td>0.0</td>\n",
              "      <td>0.00</td>\n",
              "      <td>1.00</td>\n",
              "      <td>2.00</td>\n",
              "      <td>2.0</td>\n",
              "    </tr>\n",
              "  </tbody>\n",
              "</table>\n",
              "</div>"
            ],
            "text/plain": [
              "               count       mean        std  min    25%    50%     75%    max\n",
              "Id             150.0  75.500000  43.445368  1.0  38.25  75.50  112.75  150.0\n",
              "SepalLengthCm  150.0   5.843333   0.828066  4.3   5.10   5.80    6.40    7.9\n",
              "SepalWidthCm   150.0   3.054000   0.433594  2.0   2.80   3.00    3.30    4.4\n",
              "PetalLengthCm  150.0   3.758667   1.764420  1.0   1.60   4.35    5.10    6.9\n",
              "PetalWidthCm   150.0   1.198667   0.763161  0.1   0.30   1.30    1.80    2.5\n",
              "Species_label  150.0   1.000000   0.819232  0.0   0.00   1.00    2.00    2.0"
            ]
          },
          "metadata": {
            "tags": []
          },
          "execution_count": 14
        }
      ]
    },
    {
      "cell_type": "code",
      "metadata": {
        "colab": {
          "base_uri": "https://localhost:8080/"
        },
        "id": "Oyxgc-pJzOCr",
        "outputId": "219651cc-3d68-4f21-bd35-7fc00631c340"
      },
      "source": [
        "df.isna().sum().sum()"
      ],
      "execution_count": null,
      "outputs": [
        {
          "output_type": "execute_result",
          "data": {
            "text/plain": [
              "0"
            ]
          },
          "metadata": {
            "tags": []
          },
          "execution_count": 16
        }
      ]
    },
    {
      "cell_type": "markdown",
      "metadata": {
        "id": "REvS_9bm8nGL"
      },
      "source": [
        "# **Splitting the Data**"
      ]
    },
    {
      "cell_type": "code",
      "metadata": {
        "colab": {
          "base_uri": "https://localhost:8080/"
        },
        "id": "MgXGDKwb0OXu",
        "outputId": "e40af8f8-b1cc-4f35-d451-826c1a8068e2"
      },
      "source": [
        "# Defining the decision tree algorithm\n",
        "X = df.iloc[:,1:5]\n",
        "y = df.iloc[:,-1]\n",
        "\n",
        "X_train, X_test, y_train, y_test = train_test_split(X, y, random_state=1010)\n",
        "clf = DecisionTreeClassifier(random_state=0)\n",
        "clf.fit(X_train,y_train)"
      ],
      "execution_count": 16,
      "outputs": [
        {
          "output_type": "execute_result",
          "data": {
            "text/plain": [
              "DecisionTreeClassifier(ccp_alpha=0.0, class_weight=None, criterion='gini',\n",
              "                       max_depth=None, max_features=None, max_leaf_nodes=None,\n",
              "                       min_impurity_decrease=0.0, min_impurity_split=None,\n",
              "                       min_samples_leaf=1, min_samples_split=2,\n",
              "                       min_weight_fraction_leaf=0.0, presort='deprecated',\n",
              "                       random_state=0, splitter='best')"
            ]
          },
          "metadata": {
            "tags": []
          },
          "execution_count": 16
        }
      ]
    },
    {
      "cell_type": "code",
      "metadata": {
        "colab": {
          "base_uri": "https://localhost:8080/"
        },
        "id": "nCBX5Ybn0b_z",
        "outputId": "d17ed898-a617-4301-88cf-6815af474f08"
      },
      "source": [
        "# Prediction of trained data and accuracy\n",
        "pred=clf.predict(X_test)\n",
        "print(pred)\n",
        "from sklearn.metrics import accuracy_score\n",
        "accuracy_score(y_test, pred)"
      ],
      "execution_count": 17,
      "outputs": [
        {
          "output_type": "stream",
          "text": [
            "[1 1 0 2 0 2 2 0 1 2 0 1 0 2 1 1 2 2 2 0 2 2 2 0 0 0 0 0 0 0 2 1 2 2 2 2 0\n",
            " 0]\n"
          ],
          "name": "stdout"
        },
        {
          "output_type": "execute_result",
          "data": {
            "text/plain": [
              "0.8947368421052632"
            ]
          },
          "metadata": {
            "tags": []
          },
          "execution_count": 17
        }
      ]
    },
    {
      "cell_type": "markdown",
      "metadata": {
        "id": "pUcIj0rL7-SW"
      },
      "source": [
        "# **Visualization**"
      ]
    },
    {
      "cell_type": "code",
      "metadata": {
        "id": "4JQvcDDtzvPz"
      },
      "source": [
        "# Install required librarie\n",
        "!pip install pandas_visual_analysis"
      ],
      "execution_count": null,
      "outputs": []
    },
    {
      "cell_type": "code",
      "metadata": {
        "colab": {
          "base_uri": "https://localhost:8080/",
          "height": 17,
          "referenced_widgets": [
            "e3d975f375804fa5820044b841552d2e",
            "44b6253ad79e43f3ac06dbebd24568ca",
            "9ccba115baac4b30a407169c6eff71ad",
            "4c8d6f4955ee4c1dae2b420837132c5f",
            "368098c2a4464c14bb23fc002da77995",
            "ba74280034cb45d1821677b4e06b104f",
            "fe8aeeb18d814dd29d2f7bb1ad9a0ade",
            "e4414fdab37d45f58e94cd8cc0bd3724",
            "c752692120c44a2cb416f2300f2eee12",
            "70fcabd8973b4ff7bb134ab860797f6a",
            "3a4cc9a4efb94c00b111a08f58d50257",
            "be700b52ee0c4d1da3d0e7181b68f6fc",
            "756a8bcfb60a4917ab78a109afdca1d6",
            "122365453a204c538114fec30055e67b",
            "578c32e28b1b4b0aa5a16bd08e9fc061",
            "5ae0026ba63c4f439d2d06793b59140a",
            "acd860b507604a57af28ae68c8e6a7fc",
            "5fd69828d4d946739d8f7e3f82478ec1",
            "6edeb30684164b78b74ebda096d9a383",
            "de21d0afabd342a0a3066397a39d9b05",
            "df79685f06ce4739a11c1f85d1b7b073",
            "3ddf1013add7432eb18373f011e1b621",
            "4bc5c06bdff845829fe965c1483c80c9",
            "9b260b3d4b734c2ab25cfadbe9bedc9c",
            "8cee2069c1be4c79a2b7de8bf249b0bf",
            "29607bf665e54e009c9b32c6b92c4fc6",
            "7a098fa894d84c8db48318e764315cde",
            "ee758651a9f94c209156f08fca0539cd",
            "45793d754f5f4884820477237a1d40eb",
            "e7fac8bbd27740ef9a0522506d1db03e",
            "20b87987e80340b99d581a3f34623784",
            "dac98dc96dcb43df9da05875d099677f",
            "69e9366ab20141829ae41a3947a286d2",
            "bdba1c1e87114647ac42bae74d014c75",
            "d62d71ac05c64666b93cc5aeadd5c543",
            "1231ecb59e7147028ffa87a7ceda167c",
            "38d0a744faeb43e7996cc3b7e4dddbf4",
            "9cf055a9fdd446d7bec1da234328ccf4",
            "1e37966d950b48a09dea5238dfe0325e",
            "c7581ad028cc424f8147c58e84e78066",
            "ee9a43b400fb47d9b67ee78e3cd22beb",
            "ad4c7299bbe2456a9ac2bbd8e26142eb",
            "d16d0bc375d6419da0b2effb8f229121",
            "0b7b195431e84785a7549a8487849446",
            "0caf055f788d456185001babff364ace",
            "ffafe9e4cef540c7b9271192f33646bf",
            "8cf4ea469fd94236ae97bcc52a5d075a",
            "02fde421b8aa40d9b8f09cb36a32b535",
            "107b7979e2c841da86c373cfa7bbb7ff",
            "42f64e45584543559093a6b501062867",
            "c38af1119c654bdfa63218fa551672fa",
            "b8f2215c3ee345c2824155c26f01bdd6",
            "0f5f91804e564e719da5f0967698e973",
            "ac5f4c1d02894735a7f3491675222f3a",
            "7c7c1e84d0df4e22bd09f04842341836",
            "1713e87db0e9420381e8530ff34939ff",
            "e29ee627f93c428aa3b21c9e9ce75554",
            "bd87edb06b4c436ea2d556ccf2272de8",
            "1765b1edc40b471b8f9e1c88a3c0655a",
            "3cc01de9706f472d9b104451c9d85f60",
            "b868a120d18a4e01bb03b83be831805c",
            "a9a76d2f42404a889b1a3387d1a1476d",
            "e401310f514c4e95b036b20eb29941e1",
            "d662023467e646c8822ce610e99f40e7",
            "1f4456f8f7304a8d895e11fdc0f68fc7",
            "b0f6fd3f9b944f4dbceafe001525e275",
            "4fbe5f971ca9429fb84960ce057b9802",
            "884c1a07323645d5be590e62b9ec7b17",
            "27c73a2c3a134df783227fcfad5af0fd",
            "c9b4db17214b4007a323484b536e504a",
            "00bb8e23a7b04b75a32a18b460acf6cb",
            "35b23054e84848d68f36c01d2b83ceed",
            "3db4062f00034c208939bc39df6ac3c4",
            "7c60abf2742f48a78c23b869dde834df",
            "2fe9c1889d454c54a8f711b29633657b",
            "e650c017985e4acab2232473defa2592",
            "bd1f052abd824112b5eceba8ba1190a0",
            "a25bb83258ff4f53895ad85477801e3e",
            "d3fbf3ed7b7a4b7aa1bf1ac979a1ddbd",
            "82874dbb9b0e491b96deb15cd7f88d59",
            "480c4380789043a4a8f3b32ad8ee95f4",
            "2a7c115fa3154bb888803bf9a31e92f1",
            "1d4ec012798b4ae0b1147b0f4283eb85",
            "53684f7aa3fb41d19437f658ea50009d",
            "50a4c5c4ab9049be907e86dae832b83e",
            "fb9f33c2a9174e879d242afabf905d71",
            "bed30217be3d45d9a64f66f979714139",
            "f23d23fc53a54741966bf1bb3ea3ed52",
            "3b2645f745ae4fdc830d71d68ecfa545",
            "e4fedb6a3e33470b9600ca84bb62ad44",
            "79f47b00537c4feba48c9a626d9b0325",
            "929e2444460a45e69f6c6c02567d815f",
            "665e2be1853743ea9cb60b81c538c7cd",
            "0a74a306c88d4e1aa671dbaa12d35722",
            "25808fe1523b4cb99e8ef6057147b898",
            "e6a9a0ff623744b49221870553b127b5",
            "d06667248b1149ce852b830e815f0252",
            "552bb884de134f6f8ced0b84f0d9af1a",
            "95848e99e37845b7984ef8318f9a2dda",
            "cf593397a5df4edeb9184a592658a6b0",
            "79378ed7454540c093421141e0e8ca13",
            "d3ef2b76064f40ae8b9b57945d73fa66",
            "10a4af5699484d4b80718487f66a8c08",
            "1244e620f8164d4e972f62c2eb13f9a5",
            "7f6177763dea4746a61ff4a40e039571",
            "4d9a046a0f0c48a28780ec70720c402b",
            "d73c873991d64195910e3707cdd1a6de",
            "14a91e0c88a44f0eb1f47b8c465ac19a",
            "220dce51678e4522bfb77146f638c4c9",
            "3b6f88888ff94033804417ca0ed862b6",
            "024929c43d384737815bf01cb8294ad1",
            "876e113dd6f84984b71c130b1af9f336",
            "a7a6d2686600428787fdfcb37527d3e7",
            "67da965136964400a4bcea7bd3db72dd",
            "25113bedaac34554b6affa51ef63493c",
            "ac4cfb6490474f66a9bb51a8678b5e9a",
            "6b78dff83044467a8c3909be79dc009f",
            "73f1c78977b149c98451c8a8eb425ec2"
          ]
        },
        "id": "JbVtzdpK0Fc7",
        "outputId": "60fcbe9f-8fb9-4106-dd80-009d5381ab4c"
      },
      "source": [
        "from pandas_visual_analysis import VisualAnalysis\n",
        "VisualAnalysis(df.iloc[:,1:6])"
      ],
      "execution_count": 15,
      "outputs": [
        {
          "output_type": "display_data",
          "data": {
            "application/vnd.jupyter.widget-view+json": {
              "model_id": "e3d975f375804fa5820044b841552d2e",
              "version_minor": 0,
              "version_major": 2
            },
            "text/plain": [
              "VBox(children=(ToggleButtons(_dom_classes=('layout-445a2fbe88f541af95856d4afe539106',), description='Selection…"
            ]
          },
          "metadata": {
            "tags": []
          }
        }
      ]
    },
    {
      "cell_type": "code",
      "metadata": {
        "colab": {
          "base_uri": "https://localhost:8080/",
          "height": 920
        },
        "id": "4kA3v5n70eh0",
        "outputId": "d689e58f-464d-4a88-e342-69d3c67483cb"
      },
      "source": [
        "# Visualize the graph\n",
        "from sklearn import tree\n",
        "plt.figure(figsize=(15,10))\n",
        "tree.plot_tree(clf,filled=True)"
      ],
      "execution_count": 18,
      "outputs": [
        {
          "output_type": "execute_result",
          "data": {
            "text/plain": [
              "[Text(257.53846153846155, 504.7714285714286, 'X[3] <= 0.8\\ngini = 0.666\\nsamples = 112\\nvalue = [35, 39, 38]'),\n",
              " Text(193.15384615384616, 427.11428571428576, 'gini = 0.0\\nsamples = 35\\nvalue = [35, 0, 0]'),\n",
              " Text(321.9230769230769, 427.11428571428576, 'X[2] <= 4.75\\ngini = 0.5\\nsamples = 77\\nvalue = [0, 39, 38]'),\n",
              " Text(128.76923076923077, 349.4571428571429, 'X[0] <= 5.0\\ngini = 0.054\\nsamples = 36\\nvalue = [0, 35, 1]'),\n",
              " Text(64.38461538461539, 271.8, 'gini = 0.0\\nsamples = 1\\nvalue = [0, 0, 1]'),\n",
              " Text(193.15384615384616, 271.8, 'gini = 0.0\\nsamples = 35\\nvalue = [0, 35, 0]'),\n",
              " Text(515.0769230769231, 349.4571428571429, 'X[3] <= 1.75\\ngini = 0.176\\nsamples = 41\\nvalue = [0, 4, 37]'),\n",
              " Text(321.9230769230769, 271.8, 'X[1] <= 2.65\\ngini = 0.49\\nsamples = 7\\nvalue = [0, 3, 4]'),\n",
              " Text(257.53846153846155, 194.14285714285717, 'gini = 0.0\\nsamples = 2\\nvalue = [0, 0, 2]'),\n",
              " Text(386.3076923076923, 194.14285714285717, 'X[2] <= 5.05\\ngini = 0.48\\nsamples = 5\\nvalue = [0, 3, 2]'),\n",
              " Text(321.9230769230769, 116.48571428571432, 'gini = 0.0\\nsamples = 2\\nvalue = [0, 2, 0]'),\n",
              " Text(450.69230769230774, 116.48571428571432, 'X[1] <= 2.75\\ngini = 0.444\\nsamples = 3\\nvalue = [0, 1, 2]'),\n",
              " Text(386.3076923076923, 38.82857142857142, 'gini = 0.0\\nsamples = 1\\nvalue = [0, 1, 0]'),\n",
              " Text(515.0769230769231, 38.82857142857142, 'gini = 0.0\\nsamples = 2\\nvalue = [0, 0, 2]'),\n",
              " Text(708.2307692307693, 271.8, 'X[2] <= 4.85\\ngini = 0.057\\nsamples = 34\\nvalue = [0, 1, 33]'),\n",
              " Text(643.8461538461538, 194.14285714285717, 'X[1] <= 3.1\\ngini = 0.444\\nsamples = 3\\nvalue = [0, 1, 2]'),\n",
              " Text(579.4615384615385, 116.48571428571432, 'gini = 0.0\\nsamples = 2\\nvalue = [0, 0, 2]'),\n",
              " Text(708.2307692307693, 116.48571428571432, 'gini = 0.0\\nsamples = 1\\nvalue = [0, 1, 0]'),\n",
              " Text(772.6153846153846, 194.14285714285717, 'gini = 0.0\\nsamples = 31\\nvalue = [0, 0, 31]')]"
            ]
          },
          "metadata": {
            "tags": []
          },
          "execution_count": 18
        },
        {
          "output_type": "display_data",
          "data": {
            "image/png": "[encoded data removed]",
            "text/plain": [
              "<Figure size 1080x720 with 1 Axes>"
            ]
          },
          "metadata": {
            "tags": [],
            "needs_background": "light"
          }
        }
      ]
    },
    {
      "cell_type": "markdown",
      "metadata": {
        "id": "Xcv94E779y2f"
      },
      "source": [
        "# **Prediction of right class accordingly to the new data to this classifer**"
      ]
    },
    {
      "cell_type": "code",
      "metadata": {
        "colab": {
          "base_uri": "https://localhost:8080/"
        },
        "id": "Iuw26p7q05iA",
        "outputId": "77fe885c-0a0b-4ab2-820d-d173cd9c12cb"
      },
      "source": [
        "# Testing the new data\n",
        "New_Data = ['Iris-Setosa','Iris-versicolor','Iris-Viginica']\n",
        "test=np.array([6.3,3.3,6.0,2.5])\n",
        "test=test.reshape(1,-1)\n",
        "pred=clf.predict(test)\n",
        "print(\"Input data: \",test)\n",
        "print(\"Category: \",New_Data[int(pred[0])])\n"
      ],
      "execution_count": 19,
      "outputs": [
        {
          "output_type": "stream",
          "text": [
            "Input Length:  [[6.3 3.3 6.  2.5]]\n",
            "Category:  Iris-Viginica\n"
          ],
          "name": "stdout"
        }
      ]
    }
  ]
}